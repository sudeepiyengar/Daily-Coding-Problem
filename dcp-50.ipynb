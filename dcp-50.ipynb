{
 "cells": [
  {
   "cell_type": "markdown",
   "metadata": {},
   "source": [
    "1. Given a list of numbers and a number k, return whether any two numbers from the list add up to k.\n",
    "\n",
    "For example, given [10, 15, 3, 7] and k of 17, return true since 10 + 7 is 17.\n",
    "\n",
    "Bonus: Can you do this in one pass?\n"
   ]
  },
  {
   "cell_type": "code",
   "execution_count": null,
   "metadata": {},
   "outputs": [],
   "source": []
  },
  {
   "cell_type": "markdown",
   "metadata": {},
   "source": [
    "2. Given an array of integers, return a new array such that each element at index i of the new array is the product of all the numbers in the original array except the one at i.\n",
    "\n",
    "For example, if our input was [1, 2, 3, 4, 5], the expected output would be [120, 60, 40, 30, 24]. If our input was [3, 2, 1], the expected output would be [2, 3, 6].\n",
    "\n",
    "Follow-up: what if you can't use division?"
   ]
  },
  {
   "cell_type": "code",
   "execution_count": null,
   "metadata": {},
   "outputs": [],
   "source": []
  },
  {
   "cell_type": "markdown",
   "metadata": {},
   "source": [
    "3. Given the root to a binary tree, implement serialize(root), which serializes the tree into a string, and deserialize(s), which deserializes the string back into the tree.\n",
    "\n",
    "For example, given the following Node class\n",
    "\n",
    "class Node:\n",
    "    def __init__(self, val, left=None, right=None):\n",
    "        self.val = val\n",
    "        self.left = left\n",
    "        self.right = right\n",
    "The following test should pass:\n",
    "\n",
    "node = Node('root', Node('left', Node('left.left')), Node('right'))\n",
    "assert deserialize(serialize(node)).left.left.val == 'left.left'"
   ]
  },
  {
   "cell_type": "code",
   "execution_count": null,
   "metadata": {},
   "outputs": [],
   "source": []
  },
  {
   "cell_type": "markdown",
   "metadata": {},
   "source": [
    "4. Given an array of integers, find the first missing positive integer in linear time and constant space. In other words, find the lowest positive integer that does not exist in the array. The array can contain duplicates and negative numbers as well.\n",
    "\n",
    "For example, the input [3, 4, -1, 1] should give 2. The input [1, 2, 0] should give 3.\n",
    "\n",
    "You can modify the input array in-place."
   ]
  },
  {
   "cell_type": "code",
   "execution_count": null,
   "metadata": {},
   "outputs": [],
   "source": []
  },
  {
   "cell_type": "markdown",
   "metadata": {},
   "source": [
    "5. cons(a, b) constructs a pair, and car(pair) and cdr(pair) returns the first and last element of that pair. For example, car(cons(3, 4)) returns 3, and cdr(cons(3, 4)) returns 4.\n",
    "\n",
    "Given this implementation of cons:\n",
    "\n",
    "def cons(a, b):\n",
    "    def pair(f):\n",
    "        return f(a, b)\n",
    "    return pair\n",
    "Implement car and cdr."
   ]
  },
  {
   "cell_type": "code",
   "execution_count": null,
   "metadata": {},
   "outputs": [],
   "source": []
  },
  {
   "cell_type": "markdown",
   "metadata": {},
   "source": [
    "6. An XOR linked list is a more memory efficient doubly linked list. Instead of each node holding next and prev fields, it holds a field named both, which is an XOR of the next node and the previous node. Implement an XOR linked list; it has an add(element) which adds the element to the end, and a get(index) which returns the node at index.\n",
    "\n",
    "If using a language that has no pointers (such as Python), you can assume you have access to get_pointer and dereference_pointer functions that converts between nodes and memory addresses."
   ]
  },
  {
   "cell_type": "code",
   "execution_count": null,
   "metadata": {},
   "outputs": [],
   "source": []
  },
  {
   "cell_type": "markdown",
   "metadata": {},
   "source": [
    "7. Given the mapping a = 1, b = 2, ... z = 26, and an encoded message, count the number of ways it can be decoded.\n",
    "\n",
    "For example, the message '111' would give 3, since it could be decoded as 'aaa', 'ka', and 'ak'.\n",
    "\n",
    "You can assume that the messages are decodable. For example, '001' is not allowed."
   ]
  },
  {
   "cell_type": "code",
   "execution_count": null,
   "metadata": {},
   "outputs": [],
   "source": []
  },
  {
   "cell_type": "markdown",
   "metadata": {},
   "source": [
    "8. This problem was asked by Google.\n",
    "\n",
    "A unival tree (which stands for \"universal value\") is a tree where all nodes under it have the same value.\n",
    "\n",
    "Given the root to a binary tree, count the number of unival subtrees.\n",
    "\n",
    "For example, the following tree has 5 unival subtrees:\n",
    "\n",
    "   0\n",
    "  / \\\n",
    " 1   0\n",
    "    / \\\n",
    "   1   0\n",
    "  / \\\n",
    " 1   1"
   ]
  },
  {
   "cell_type": "code",
   "execution_count": null,
   "metadata": {},
   "outputs": [],
   "source": []
  },
  {
   "cell_type": "markdown",
   "metadata": {},
   "source": [
    "9. Given a list of integers, write a function that returns the largest sum of non-adjacent numbers. Numbers can be 0 or negative.\n",
    "\n",
    "For example, [2, 4, 6, 2, 5] should return 13, since we pick 2, 6, and 5. [5, 1, 1, 5] should return 10, since we pick 5 and 5.\n",
    "\n",
    "Follow-up: Can you do this in O(N) time and constant space?"
   ]
  },
  {
   "cell_type": "code",
   "execution_count": null,
   "metadata": {},
   "outputs": [],
   "source": []
  },
  {
   "cell_type": "markdown",
   "metadata": {},
   "source": [
    "10. Implement a job scheduler which takes in a function f and an integer n, and calls f after n milliseconds."
   ]
  },
  {
   "cell_type": "code",
   "execution_count": null,
   "metadata": {},
   "outputs": [],
   "source": []
  },
  {
   "cell_type": "markdown",
   "metadata": {},
   "source": [
    "11. Implement an autocomplete system. That is, given a query string s and a set of all possible query strings, return all strings in the set that have s as a prefix.\n",
    "\n",
    "For example, given the query string de and the set of strings [dog, deer, deal], return [deer, deal].\n",
    "\n",
    "Hint: Try preprocessing the dictionary into a more efficient data structure to speed up queries."
   ]
  },
  {
   "cell_type": "code",
   "execution_count": null,
   "metadata": {},
   "outputs": [],
   "source": []
  },
  {
   "cell_type": "markdown",
   "metadata": {},
   "source": [
    "12. There exists a staircase with N steps, and you can climb up either 1 or 2 steps at a time. Given N, write a function that returns the number of unique ways you can climb the staircase. The order of the steps matters.\n",
    "\n",
    "For example, if N is 4, then there are 5 unique ways:\n",
    "\n",
    "1, 1, 1, 1\n",
    "2, 1, 1\n",
    "1, 2, 1\n",
    "1, 1, 2\n",
    "2, 2\n",
    "What if, instead of being able to climb 1 or 2 steps at a time, you could climb any number from a set of positive integers X? For example, if X = {1, 3, 5}, you could climb 1, 3, or 5 steps at a time."
   ]
  },
  {
   "cell_type": "code",
   "execution_count": null,
   "metadata": {},
   "outputs": [],
   "source": []
  },
  {
   "cell_type": "markdown",
   "metadata": {},
   "source": [
    "13. Given an integer k and a string s, find the length of the longest substring that contains at most k distinct characters.\n",
    "\n",
    "For example, given s = \"abcba\" and k = 2, the longest substring with k distinct characters is \"bcb\"."
   ]
  },
  {
   "cell_type": "code",
   "execution_count": null,
   "metadata": {},
   "outputs": [],
   "source": []
  },
  {
   "cell_type": "markdown",
   "metadata": {},
   "source": [
    "14. The area of a circle is defined as πr^2. Estimate π to 3 decimal places using a Monte Carlo method.\n",
    "\n",
    "Hint: The basic equation of a circle is x2 + y2 = r2."
   ]
  },
  {
   "cell_type": "code",
   "execution_count": null,
   "metadata": {},
   "outputs": [],
   "source": []
  },
  {
   "cell_type": "markdown",
   "metadata": {},
   "source": [
    "15. Given a stream of elements too large to store in memory, pick a random element from the stream with uniform probability."
   ]
  },
  {
   "cell_type": "code",
   "execution_count": null,
   "metadata": {},
   "outputs": [],
   "source": []
  },
  {
   "cell_type": "markdown",
   "metadata": {},
   "source": [
    "16. You run an e-commerce website and want to record the last N order ids in a log. Implement a data structure to accomplish this, with the following API:\n",
    "\n",
    "record(order_id): adds the order_id to the log\n",
    "get_last(i): gets the ith last element from the log. i is guaranteed to be smaller than or equal to N.\n",
    "You should be as efficient with time and space as possible."
   ]
  },
  {
   "cell_type": "code",
   "execution_count": null,
   "metadata": {},
   "outputs": [],
   "source": []
  },
  {
   "cell_type": "markdown",
   "metadata": {},
   "source": [
    "17. Suppose we represent our file system by a string in the following manner:\n",
    "\n",
    "The string \"dir\\n\\tsubdir1\\n\\tsubdir2\\n\\t\\tfile.ext\" represents:\n",
    "\n",
    "dir\n",
    "    subdir1\n",
    "    subdir2\n",
    "        file.ext\n",
    "The directory dir contains an empty sub-directory subdir1 and a sub-directory subdir2 containing a file file.ext.\n",
    "\n",
    "The string \"dir\\n\\tsubdir1\\n\\t\\tfile1.ext\\n\\t\\tsubsubdir1\\n\\tsubdir2\\n\\t\\tsubsubdir2\\n\\t\\t\\tfile2.ext\" represents:\n",
    "\n",
    "dir\n",
    "    subdir1\n",
    "        file1.ext\n",
    "        subsubdir1\n",
    "    subdir2\n",
    "        subsubdir2\n",
    "            file2.ext\n",
    "The directory dir contains two sub-directories subdir1 and subdir2. subdir1 contains a file file1.ext and an empty second-level sub-directory subsubdir1. subdir2 contains a second-level sub-directory subsubdir2 containing a file file2.ext.\n",
    "\n",
    "We are interested in finding the longest (number of characters) absolute path to a file within our file system. For example, in the second example above, the longest absolute path is \"dir/subdir2/subsubdir2/file2.ext\", and its length is 32 (not including the double quotes).\n",
    "\n",
    "Given a string representing the file system in the above format, return the length of the longest absolute path to a file in the abstracted file system. If there is no file in the system, return 0.\n",
    "\n",
    "Note:\n",
    "\n",
    "The name of a file contains at least a period and an extension.\n",
    "\n",
    "The name of a directory or sub-directory will not contain a period."
   ]
  },
  {
   "cell_type": "code",
   "execution_count": null,
   "metadata": {},
   "outputs": [],
   "source": []
  },
  {
   "cell_type": "markdown",
   "metadata": {},
   "source": [
    "18. \n",
    " Daily Coding Problem\n",
    "Good morning! Here's your coding interview problem for today.\n",
    "\n",
    "This problem was asked by Google.\n",
    "\n",
    "Given an array of integers and a number k, where 1 <= k <= length of the array, compute the maximum values of each subarray of length k.\n",
    "\n",
    "For example, given array = [10, 5, 2, 7, 8, 7] and k = 3, we should get: [10, 7, 8, 8], since:\n",
    "\n",
    "10 = max(10, 5, 2)\n",
    "7 = max(5, 2, 7)\n",
    "8 = max(2, 7, 8)\n",
    "8 = max(7, 8, 7)\n",
    "Do this in O(n) time and O(k) space. You can modify the input array in-place and you do not need to store the results. You can simply print them out as you compute them."
   ]
  },
  {
   "cell_type": "code",
   "execution_count": null,
   "metadata": {},
   "outputs": [],
   "source": []
  },
  {
   "cell_type": "markdown",
   "metadata": {},
   "source": [
    "19. A builder is looking to build a row of N houses that can be of K different colors. He has a goal of minimizing cost while ensuring that no two neighboring houses are of the same color.\n",
    "\n",
    "Given an N by K matrix where the nth row and kth column represents the cost to build the nth house with kth color, return the minimum cost which achieves this goal."
   ]
  },
  {
   "cell_type": "code",
   "execution_count": null,
   "metadata": {},
   "outputs": [],
   "source": []
  },
  {
   "cell_type": "markdown",
   "metadata": {},
   "source": [
    "20. Given two singly linked lists that intersect at some point, find the intersecting node. The lists are non-cyclical.\n",
    "\n",
    "For example, given A = 3 -> 7 -> 8 -> 10 and B = 99 -> 1 -> 8 -> 10, return the node with value 8.\n",
    "\n",
    "In this example, assume nodes with the same value are the exact same node objects.\n",
    "\n",
    "Do this in O(M + N) time (where M and N are the lengths of the lists) and constant space."
   ]
  },
  {
   "cell_type": "code",
   "execution_count": null,
   "metadata": {},
   "outputs": [],
   "source": []
  },
  {
   "cell_type": "markdown",
   "metadata": {},
   "source": [
    "21. Given an array of time intervals (start, end) for classroom lectures (possibly overlapping), find the minimum number of rooms required.\n",
    "\n",
    "For example, given [(30, 75), (0, 50), (60, 150)], you should return 2."
   ]
  },
  {
   "cell_type": "code",
   "execution_count": null,
   "metadata": {},
   "outputs": [],
   "source": []
  },
  {
   "cell_type": "markdown",
   "metadata": {},
   "source": [
    "22. Given a dictionary of words and a string made up of those words (no spaces), return the original sentence in a list. If there is more than one possible reconstruction, return any of them. If there is no possible reconstruction, then return null.\n",
    "\n",
    "For example, given the set of words 'quick', 'brown', 'the', 'fox', and the string \"thequickbrownfox\", you should return ['the', 'quick', 'brown', 'fox'].\n",
    "\n",
    "Given the set of words 'bed', 'bath', 'bedbath', 'and', 'beyond', and the string \"bedbathandbeyond\", return either ['bed', 'bath', 'and', 'beyond] or ['bedbath', 'and', 'beyond']."
   ]
  },
  {
   "cell_type": "code",
   "execution_count": null,
   "metadata": {},
   "outputs": [],
   "source": []
  },
  {
   "cell_type": "markdown",
   "metadata": {},
   "source": [
    "23. You are given an M by N matrix consisting of booleans that represents a board. Each True boolean represents a wall. Each False boolean represents a tile you can walk on.\n",
    "\n",
    "Given this matrix, a start coordinate, and an end coordinate, return the minimum number of steps required to reach the end coordinate from the start. If there is no possible path, then return null. You can move up, left, down, and right. You cannot move through walls. You cannot wrap around the edges of the board.\n",
    "\n",
    "For example, given the following board:\n",
    "\n",
    "[[f, f, f, f],\n",
    "[t, t, f, t],\n",
    "[f, f, f, f],\n",
    "[f, f, f, f]]\n",
    "and start = (3, 0) (bottom left) and end = (0, 0) (top left), the minimum number of steps required to reach the end is 7, since we would need to go through (1, 2) because there is a wall everywhere else on the second row."
   ]
  },
  {
   "cell_type": "code",
   "execution_count": null,
   "metadata": {},
   "outputs": [],
   "source": []
  },
  {
   "cell_type": "markdown",
   "metadata": {},
   "source": [
    "24. You are given an M by N matrix consisting of booleans that represents a board. Each True boolean represents a wall. Each False boolean represents a tile you can walk on.\n",
    "\n",
    "Given this matrix, a start coordinate, and an end coordinate, return the minimum number of steps required to reach the end coordinate from the start. If there is no possible path, then return null. You can move up, left, down, and right. You cannot move through walls. You cannot wrap around the edges of the board.\n",
    "\n",
    "For example, given the following board:\n",
    "\n",
    "[[f, f, f, f],\n",
    "[t, t, f, t],\n",
    "[f, f, f, f],\n",
    "[f, f, f, f]]\n",
    "and start = (3, 0) (bottom left) and end = (0, 0) (top left), the minimum number of steps required to reach the end is 7, since we would need to go through (1, 2) because there is a wall everywhere else on the second row."
   ]
  },
  {
   "cell_type": "code",
   "execution_count": null,
   "metadata": {},
   "outputs": [],
   "source": []
  },
  {
   "cell_type": "markdown",
   "metadata": {},
   "source": [
    "25. Implement regular expression matching with the following special characters:\n",
    "\n",
    ". (period) which matches any single character\n",
    "* (asterisk) which matches zero or more of the preceding element\n",
    "That is, implement a function that takes in a string and a valid regular expression and returns whether or not the string matches the regular expression.\n",
    "\n",
    "For example, given the regular expression \"ra.\" and the string \"ray\", your function should return true. The same regular expression on the string \"raymond\" should return false.\n",
    "\n",
    "Given the regular expression \".*at\" and the string \"chat\", your function should return true. The same regular expression on the string \"chats\" should return false."
   ]
  },
  {
   "cell_type": "code",
   "execution_count": null,
   "metadata": {},
   "outputs": [],
   "source": []
  },
  {
   "cell_type": "markdown",
   "metadata": {},
   "source": [
    "26. Given a singly linked list and an integer k, remove the kth last element from the list. k is guaranteed to be smaller than the length of the list.\n",
    "\n",
    "The list is very long, so making more than one pass is prohibitively expensive.\n",
    "\n",
    "Do this in constant space and in one pass."
   ]
  },
  {
   "cell_type": "code",
   "execution_count": null,
   "metadata": {},
   "outputs": [],
   "source": []
  },
  {
   "cell_type": "markdown",
   "metadata": {},
   "source": [
    "27. Given a string of round, curly, and square open and closing brackets, return whether the brackets are balanced (well-formed).\n",
    "\n",
    "For example, given the string \"([])[]({})\", you should return true.\n",
    "\n",
    "Given the string \"([)]\" or \"((()\", you should return false."
   ]
  },
  {
   "cell_type": "code",
   "execution_count": null,
   "metadata": {},
   "outputs": [],
   "source": []
  },
  {
   "cell_type": "markdown",
   "metadata": {},
   "source": [
    "28. Write an algorithm to justify text. Given a sequence of words and an integer line length k, return a list of strings which represents each line, fully justified.\n",
    "\n",
    "More specifically, you should have as many words as possible in each line. There should be at least one space between each word. Pad extra spaces when necessary so that each line has exactly length k. Spaces should be distributed as equally as possible, with the extra spaces, if any, distributed starting from the left.\n",
    "\n",
    "If you can only fit one word on a line, then you should pad the right-hand side with spaces.\n",
    "\n",
    "Each word is guaranteed not to be longer than k.\n",
    "\n",
    "For example, given the list of words [\"the\", \"quick\", \"brown\", \"fox\", \"jumps\", \"over\", \"the\", \"lazy\", \"dog\"] and k = 16, you should return the following:\n",
    "\n",
    "[\"the  quick brown\", # 1 extra space on the left\n",
    "\"fox  jumps  over\", # 2 extra spaces distributed evenly\n",
    "\"the   lazy   dog\"] # 4 extra spaces distributed evenly"
   ]
  },
  {
   "cell_type": "code",
   "execution_count": null,
   "metadata": {},
   "outputs": [],
   "source": []
  },
  {
   "cell_type": "markdown",
   "metadata": {},
   "source": [
    "29. Run-length encoding is a fast and simple method of encoding strings. The basic idea is to represent repeated successive characters as a single count and character. For example, the string \"AAAABBBCCDAA\" would be encoded as \"4A3B2C1D2A\".\n",
    "\n",
    "Implement run-length encoding and decoding. You can assume the string to be encoded have no digits and consists solely of alphabetic characters. You can assume the string to be decoded is valid."
   ]
  },
  {
   "cell_type": "code",
   "execution_count": null,
   "metadata": {},
   "outputs": [],
   "source": []
  },
  {
   "cell_type": "markdown",
   "metadata": {},
   "source": [
    "30. You are given an array of non-negative integers that represents a two-dimensional elevation map where each element is unit-width wall and the integer is the height. Suppose it will rain and all spots between two walls get filled up.\n",
    "\n",
    "Compute how many units of water remain trapped on the map in O(N) time and O(1) space.\n",
    "\n",
    "For example, given the input [2, 1, 2], we can hold 1 unit of water in the middle.\n",
    "\n",
    "Given the input [3, 0, 1, 3, 0, 5], we can hold 3 units in the first index, 2 in the second, and 3 in the fourth index (we cannot hold 5 since it would run off to the left), so we can trap 8 units of water.\n",
    "\n"
   ]
  },
  {
   "cell_type": "code",
   "execution_count": null,
   "metadata": {},
   "outputs": [],
   "source": []
  },
  {
   "cell_type": "markdown",
   "metadata": {},
   "source": [
    "31. The edit distance between two strings refers to the minimum number of character insertions, deletions, and substitutions required to change one string to the other. For example, the edit distance between “kitten” and “sitting” is three: substitute the “k” for “s”, substitute the “e” for “i”, and append a “g”.\n",
    "\n",
    "Given two strings, compute the edit distance between them."
   ]
  },
  {
   "cell_type": "code",
   "execution_count": null,
   "metadata": {},
   "outputs": [],
   "source": []
  },
  {
   "cell_type": "markdown",
   "metadata": {},
   "source": [
    "32. Suppose you are given a table of currency exchange rates, represented as a 2D array. Determine whether there is a possible arbitrage: that is, whether there is some sequence of trades you can make, starting with some amount A of any currency, so that you can end up with some amount greater than A of that currency.\n",
    "\n",
    "There are no transaction costs and you can trade fractional quantities."
   ]
  },
  {
   "cell_type": "code",
   "execution_count": null,
   "metadata": {},
   "outputs": [],
   "source": []
  },
  {
   "cell_type": "markdown",
   "metadata": {},
   "source": [
    "33. Compute the running median of a sequence of numbers. That is, given a stream of numbers, print out the median of the list so far on each new element.\n",
    "\n",
    "Recall that the median of an even-numbered list is the average of the two middle numbers.\n",
    "\n",
    "For example, given the sequence [2, 1, 5, 7, 2, 0, 5], your algorithm should print out:\n",
    "\n",
    "2\n",
    "1.5\n",
    "2\n",
    "3.5\n",
    "2\n",
    "2\n",
    "2"
   ]
  },
  {
   "cell_type": "code",
   "execution_count": null,
   "metadata": {},
   "outputs": [],
   "source": []
  },
  {
   "cell_type": "markdown",
   "metadata": {},
   "source": [
    "34. Given a string, find the palindrome that can be made by inserting the fewest number of characters as possible anywhere in the word. If there is more than one palindrome of minimum length that can be made, return the lexicographically earliest one (the first one alphabetically).\n",
    "\n",
    "For example, given the string \"race\", you should return \"ecarace\", since we can add three letters to it (which is the smallest amount to make a palindrome). There are seven other palindromes that can be made from \"race\" by adding three letters, but \"ecarace\" comes first alphabetically.\n",
    "\n",
    "As another example, given the string \"google\", you should return \"elgoogle\"."
   ]
  },
  {
   "cell_type": "code",
   "execution_count": null,
   "metadata": {},
   "outputs": [],
   "source": []
  },
  {
   "cell_type": "markdown",
   "metadata": {},
   "source": [
    "35. Given an array of strictly the characters 'R', 'G', and 'B', segregate the values of the array so that all the Rs come first, the Gs come second, and the Bs come last. You can only swap elements of the array.\n",
    "\n",
    "Do this in linear time and in-place.\n",
    "\n",
    "For example, given the array ['G', 'B', 'R', 'R', 'B', 'R', 'G'], it should become ['R', 'R', 'R', 'G', 'G', 'B', 'B']."
   ]
  },
  {
   "cell_type": "code",
   "execution_count": null,
   "metadata": {},
   "outputs": [],
   "source": []
  },
  {
   "cell_type": "markdown",
   "metadata": {},
   "source": [
    "36. Given the root to a binary search tree, find the second largest node in the tree."
   ]
  },
  {
   "cell_type": "code",
   "execution_count": null,
   "metadata": {},
   "outputs": [],
   "source": []
  },
  {
   "cell_type": "markdown",
   "metadata": {},
   "source": [
    "37. The power set of a set is the set of all its subsets. Write a function that, given a set, generates its power set.\n",
    "\n",
    "For example, given the set {1, 2, 3}, it should return {{}, {1}, {2}, {3}, {1, 2}, {1, 3}, {2, 3}, {1, 2, 3}}.\n",
    "\n",
    "You may also use a list or array to represent a set."
   ]
  },
  {
   "cell_type": "code",
   "execution_count": null,
   "metadata": {},
   "outputs": [],
   "source": []
  },
  {
   "cell_type": "markdown",
   "metadata": {},
   "source": [
    "38. You have an N by N board. Write a function that, given N, returns the number of possible arrangements of the board where N queens can be placed on the board without threatening each other, i.e. no two queens share the same row, column, or diagonal."
   ]
  },
  {
   "cell_type": "code",
   "execution_count": null,
   "metadata": {},
   "outputs": [],
   "source": []
  },
  {
   "cell_type": "markdown",
   "metadata": {},
   "source": [
    "39. \n",
    " Daily Coding Problem\n",
    "Good morning! Here's your coding interview problem for today.\n",
    "\n",
    "This problem was asked by Dropbox.\n",
    "\n",
    "Conway's Game of Life takes place on an infinite two-dimensional board of square cells. Each cell is either dead or alive, and at each tick, the following rules apply:\n",
    "\n",
    "Any live cell with less than two live neighbours dies.\n",
    "Any live cell with two or three live neighbours remains living.\n",
    "Any live cell with more than three live neighbours dies.\n",
    "Any dead cell with exactly three live neighbours becomes a live cell.\n",
    "A cell neighbours another cell if it is horizontally, vertically, or diagonally adjacent.\n",
    "\n",
    "Implement Conway's Game of Life. It should be able to be initialized with a starting list of live cell coordinates and the number of steps it should run for. Once initialized, it should print out the board state at each step. Since it's an infinite board, print out only the relevant coordinates, i.e. from the top-leftmost live cell to bottom-rightmost live cell.\n",
    "\n",
    "You can represent a live cell with an asterisk (*) and a dead cell with a dot (.)."
   ]
  },
  {
   "cell_type": "code",
   "execution_count": null,
   "metadata": {},
   "outputs": [],
   "source": []
  },
  {
   "cell_type": "markdown",
   "metadata": {},
   "source": [
    "40. Given an array of integers where every integer occurs three times except for one integer, which only occurs once, find and return the non-duplicated integer.\n",
    "\n",
    "For example, given [6, 1, 3, 3, 3, 6, 6], return 1. Given [13, 19, 13, 13], return 19.\n",
    "\n",
    "Do this in O(N) time and O(1) space."
   ]
  },
  {
   "cell_type": "code",
   "execution_count": null,
   "metadata": {},
   "outputs": [],
   "source": []
  },
  {
   "cell_type": "markdown",
   "metadata": {},
   "source": [
    "41. Given an unordered list of flights taken by someone, each represented as (origin, destination) pairs, and a starting airport, compute the person's itinerary. If no such itinerary exists, return null. If there are multiple possible itineraries, return the lexicographically smallest one. All flights must be used in the itinerary.\n",
    "\n",
    "For example, given the list of flights [('SFO', 'HKO'), ('YYZ', 'SFO'), ('YUL', 'YYZ'), ('HKO', 'ORD')] and starting airport 'YUL', you should return the list ['YUL', 'YYZ', 'SFO', 'HKO', 'ORD'].\n",
    "\n",
    "Given the list of flights [('SFO', 'COM'), ('COM', 'YYZ')] and starting airport 'COM', you should return null.\n",
    "\n",
    "Given the list of flights [('A', 'B'), ('A', 'C'), ('B', 'C'), ('C', 'A')] and starting airport 'A', you should return the list ['A', 'B', 'C', 'A', 'C'] even though ['A', 'C', 'A', 'B', 'C'] is also a valid itinerary. However, the first one is lexicographically smaller."
   ]
  },
  {
   "cell_type": "code",
   "execution_count": null,
   "metadata": {},
   "outputs": [],
   "source": []
  },
  {
   "cell_type": "markdown",
   "metadata": {},
   "source": [
    "42. Given a list of integers S and a target number k, write a function that returns a subset of S that adds up to k. If such a subset cannot be made, then return null.\n",
    "\n",
    "Integers can appear more than once in the list. You may assume all numbers in the list are positive.\n",
    "\n",
    "For example, given S = [12, 1, 61, 5, 9, 2] and k = 24, return [12, 9, 2, 1] since it sums up to 24."
   ]
  },
  {
   "cell_type": "code",
   "execution_count": null,
   "metadata": {},
   "outputs": [],
   "source": []
  },
  {
   "cell_type": "markdown",
   "metadata": {},
   "source": [
    "43. Implement a stack that has the following methods:\n",
    "\n",
    "push(val), which pushes an element onto the stack\n",
    "pop(), which pops off and returns the topmost element of the stack. If there are no elements in the stack, then it should throw an error or return null.\n",
    "max(), which returns the maximum value in the stack currently. If there are no elements in the stack, then it should throw an error or return null.\n",
    "Each method should run in constant time."
   ]
  },
  {
   "cell_type": "code",
   "execution_count": null,
   "metadata": {},
   "outputs": [],
   "source": []
  },
  {
   "cell_type": "markdown",
   "metadata": {},
   "source": [
    "44. We can determine how \"out of order\" an array A is by counting the number of inversions it has. Two elements A[i] and A[j] form an inversion if A[i] > A[j] but i < j. That is, a smaller element appears after a larger element.\n",
    "\n",
    "Given an array, count the number of inversions it has. Do this faster than O(N^2) time.\n",
    "\n",
    "You may assume each element in the array is distinct.\n",
    "\n",
    "For example, a sorted list has zero inversions. The array [2, 4, 1, 3, 5] has three inversions: (2, 1), (4, 1), and (4, 3). The array [5, 4, 3, 2, 1] has ten inversions: every distinct pair forms an inversion."
   ]
  },
  {
   "cell_type": "code",
   "execution_count": null,
   "metadata": {},
   "outputs": [],
   "source": []
  },
  {
   "cell_type": "markdown",
   "metadata": {},
   "source": [
    "45. Using a function rand5() that returns an integer from 1 to 5 (inclusive) with uniform probability, implement a function rand7() that returns an integer from 1 to 7 (inclusive)."
   ]
  },
  {
   "cell_type": "code",
   "execution_count": null,
   "metadata": {},
   "outputs": [],
   "source": []
  },
  {
   "cell_type": "markdown",
   "metadata": {},
   "source": [
    "46. Given a string, find the longest palindromic contiguous substring. If there are more than one with the maximum length, return any one.\n",
    "\n",
    "For example, the longest palindromic substring of \"aabcdcb\" is \"bcdcb\". The longest palindromic substring of \"bananas\" is \"anana\"."
   ]
  },
  {
   "cell_type": "code",
   "execution_count": null,
   "metadata": {},
   "outputs": [],
   "source": []
  },
  {
   "cell_type": "markdown",
   "metadata": {},
   "source": [
    "47. Given a array of numbers representing the stock prices of a company in chronological order, write a function that calculates the maximum profit you could have made from buying and selling that stock once. You must buy before you can sell it.\n",
    "\n",
    "For example, given [9, 11, 8, 5, 7, 10], you should return 5, since you could buy the stock at 5 dollars and sell it at 10 dollars."
   ]
  },
  {
   "cell_type": "code",
   "execution_count": null,
   "metadata": {},
   "outputs": [],
   "source": []
  },
  {
   "cell_type": "markdown",
   "metadata": {},
   "source": [
    "48. Given pre-order and in-order traversals of a binary tree, write a function to reconstruct the tree.\n",
    "\n",
    "For example, given the following preorder traversal:\n",
    "\n",
    "[a, b, d, e, c, f, g]\n",
    "\n",
    "And the following inorder traversal:\n",
    "\n",
    "[d, b, e, a, f, c, g]\n",
    "\n",
    "You should return the following tree:\n",
    "\n",
    "    a\n",
    "   / \\\n",
    "  b   c\n",
    " / \\ / \\\n",
    "d  e f  g"
   ]
  },
  {
   "cell_type": "code",
   "execution_count": null,
   "metadata": {},
   "outputs": [],
   "source": []
  },
  {
   "cell_type": "markdown",
   "metadata": {},
   "source": [
    "49. Given an array of numbers, find the maximum sum of any contiguous subarray of the array.\n",
    "\n",
    "For example, given the array [34, -50, 42, 14, -5, 86], the maximum sum would be 137, since we would take elements 42, 14, -5, and 86.\n",
    "\n",
    "Given the array [-5, -1, -8, -9], the maximum sum would be 0, since we would not take any elements.\n",
    "\n",
    "Do this in O(N) time."
   ]
  },
  {
   "cell_type": "code",
   "execution_count": null,
   "metadata": {},
   "outputs": [],
   "source": []
  },
  {
   "cell_type": "markdown",
   "metadata": {},
   "source": [
    "50. Suppose an arithmetic expression is given as a binary tree. Each leaf is an integer and each internal node is one of '+', '−', '∗', or '/'.\n",
    "\n",
    "Given the root to such a tree, write a function to evaluate it.\n",
    "\n",
    "For example, given the following tree:\n",
    "\n",
    "    *\n",
    "   / \\\n",
    "  +    +\n",
    " / \\  / \\\n",
    "3  2  4  5"
   ]
  },
  {
   "cell_type": "code",
   "execution_count": null,
   "metadata": {},
   "outputs": [],
   "source": []
  }
 ],
 "metadata": {
  "kernelspec": {
   "display_name": "Python 3",
   "language": "python",
   "name": "python3"
  },
  "language_info": {
   "codemirror_mode": {
    "name": "ipython",
    "version": 3
   },
   "file_extension": ".py",
   "mimetype": "text/x-python",
   "name": "python",
   "nbconvert_exporter": "python",
   "pygments_lexer": "ipython3",
   "version": "3.8.3"
  }
 },
 "nbformat": 4,
 "nbformat_minor": 4
}
