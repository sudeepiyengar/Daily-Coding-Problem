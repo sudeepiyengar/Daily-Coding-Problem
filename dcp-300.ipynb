{
 "cells": [
  {
   "cell_type": "markdown",
   "metadata": {},
   "source": [
    "201\n",
    "Write a program that checks whether an integer is a palindrome. For example, \n",
    "121 is a palindrome, as well as 888. 678 is not a palindrome. Do not convert the integer into a string."
   ]
  },
  {
   "cell_type": "markdown",
   "metadata": {},
   "source": [
    "202\n",
    "Suppose an array sorted in ascending order is rotated at some pivot unknown to you beforehand. Find the minimum element in O(log N) time. You may assume the array does not contain duplicates.\n",
    "\n",
    "For example, given [5, 7, 10, 3, 4], return 3."
   ]
  },
  {
   "cell_type": "markdown",
   "metadata": {},
   "source": [
    "203\n",
    "Given a complete binary tree, count the number of nodes in faster than O(n) time. Recall that a complete binary tree has every \n",
    "level filled except the last, and the nodes in the last level are filled starting from the left."
   ]
  },
  {
   "cell_type": "markdown",
   "metadata": {},
   "source": [
    "204\n",
    "Given an integer, find the next \n",
    "permutation of it in absolute order. For example, given 48975, the next permutation would be 49578"
   ]
  },
  {
   "cell_type": "markdown",
   "metadata": {},
   "source": [
    "205\n",
    "A permutation can be specified by an array P, where P[i] represents the location of the element at i in the permutation. For example, [2, 1, 0] represents the permutation where elements at the index 0 and 2 are swapped.\n",
    "\n",
    "Given an array and a permutation, apply the permutation to the array. For example, given the array [\"a\", \"b\", \"c\"] and the permutation [2, 1, 0], return [\"c\", \"b\", \"a\"]"
   ]
  },
  {
   "cell_type": "markdown",
   "metadata": {},
   "source": [
    "206\n",
    "Given an undirected graph G, check whether it is bipartite. Recall that a graph is bipartite if its vertices can \n",
    "be divided into two independent sets, U and V, such that no edge connects vertices of the same set."
   ]
  },
  {
   "cell_type": "markdown",
   "metadata": {},
   "source": [
    "207\n",
    "Given a linked list of numbers and a pivot k, partition the linked list so that all nodes less than k come before nodes greater than or equal to k.\n",
    "\n",
    "For example, given the linked list 5 -> 1 -> 8 -> 0 -> 3 and k = 3, the solution could be 1 -> 0 -> 5 -> 8 -> 3"
   ]
  },
  {
   "cell_type": "markdown",
   "metadata": {},
   "source": [
    "208\n",
    "Write a program that computes the length of the longest common subsequence of three given strings. For example, given \"epidemiologist\", \"refrigeration\", and \"supercalifragilisticexpialodocious\", it should return 5, since the longest common subsequence is \"eieio\"."
   ]
  },
  {
   "cell_type": "markdown",
   "metadata": {},
   "source": [
    "209\n",
    "A Collatz sequence in mathematics can be defined as follows. Starting with any positive integer:\n",
    "\n",
    "if n is even, the next number in the sequence is n / 2\n",
    "if n is odd, the next number in the sequence is 3n + 1\n",
    "It is conjectured that every such sequence eventually reaches the number 1. Test this conjecture.\n",
    "\n",
    "Bonus: What input n <= 1000000 gives the longest sequence?"
   ]
  },
  {
   "cell_type": "markdown",
   "metadata": {},
   "source": [
    "210\n",
    "Given a string and a pattern, find the starting indices of all occurrences of the pattern in the string. For example, given the string \"abracadabra\" and the pattern \"abr\", you should return [0, 7]."
   ]
  },
  {
   "cell_type": "markdown",
   "metadata": {},
   "source": [
    "211\n",
    "Spreadsheets often use this alphabetical encoding for its columns: \"A\", \"B\", \"C\", ..., \"AA\", \"AB\", ..., \"ZZ\", \"AAA\", \"AAB\", ....\n",
    "\n",
    "Given a column number, return its alphabetical column id. For example, given 1, return \"A\". Given 27, return \"AA\"."
   ]
  },
  {
   "cell_type": "markdown",
   "metadata": {},
   "source": [
    "212\n",
    "Given a string of digits, generate all possible valid IP address combinations.\n",
    "\n",
    "IP addresses must follow the format A.B.C.D, where A, B, C, and D are numbers between 0 and 255. Zero-prefixed numbers, such as 01 and 065, are not allowed, except for 0 itself.\n",
    "\n",
    "For example, given \"2542540123\", you should return ['254.25.40.123', '254.254.0.123']."
   ]
  },
  {
   "cell_type": "markdown",
   "metadata": {},
   "source": [
    "213\n",
    "Given an integer n, return the length of the longest consecutive run of 1s in its binary representation.\n",
    "\n",
    "For example, given 156, you should return 3."
   ]
  },
  {
   "cell_type": "markdown",
   "metadata": {},
   "source": [
    "214\n",
    "The horizontal distance of a binary tree node describes how far left or right the node will be when the tree is printed out.\n",
    "\n",
    "More rigorously, we can define it as follows:\n",
    "\n",
    "The horizontal distance of the root is 0.\n",
    "The horizontal distance of a left child is hd(parent) - 1.\n",
    "The horizontal distance of a right child is hd(parent) + 1.\n",
    "For example, for the following tree, hd(1) = -2, and hd(6) = 0.\n",
    "\n",
    "             5\n",
    "          /     \\\n",
    "        3         7\n",
    "      /  \\      /   \\\n",
    "    1     4    6     9\n",
    "   /                /\n",
    "  0                8\n",
    "The bottom view of a tree, then, consists of the lowest node at each horizontal distance. If there are two nodes at the same depth and horizontal distance, either is acceptable.\n",
    "\n",
    "For this tree, for example, the bottom view could be [0, 1, 3, 6, 8, 9].\n",
    "\n",
    "Given the root to a binary tree, return its bottom view."
   ]
  },
  {
   "cell_type": "markdown",
   "metadata": {},
   "source": [
    "215\n",
    "Given a number in Roman numeral format, convert it to decimal.\n",
    "\n",
    "The values of Roman numerals are as follows:\n",
    "\n",
    "{\n",
    "    'M': 1000,\n",
    "    'D': 500,\n",
    "    'C': 100,\n",
    "    'L': 50,\n",
    "    'X': 10,\n",
    "    'V': 5,\n",
    "    'I': 1\n",
    "}\n",
    "In addition, note that the Roman numeral system uses subtractive notation for numbers such as IV and XL.\n",
    "\n",
    "For the input XIV, for instance, you should return 14."
   ]
  },
  {
   "cell_type": "markdown",
   "metadata": {},
   "source": [
    "216\n",
    "We say a number is sparse if there are no adjacent ones in its binary representation. For example, 21 (10101) is sparse, but 22 (10110) is not. For a given input N, find the smallest sparse number greater than or equal to N.\n",
    "\n",
    "Do this in faster than O(N log N) time."
   ]
  },
  {
   "cell_type": "markdown",
   "metadata": {},
   "source": [
    "217\n",
    "Write an algorithm that computes the reversal of a directed graph. For example, if a graph consists of A -> B -> C, it should become A <- B <- C."
   ]
  },
  {
   "cell_type": "markdown",
   "metadata": {},
   "source": [
    "218\n",
    "Connect 4 is a game where opponents take turns dropping red or black discs into a 7 x 6 vertically suspended grid. The game ends either when one player creates a line of four consecutive discs of their color (horizontally, vertically, or diagonally), or when there are no more spots left in the grid.\n",
    "\n",
    "Design and implement Connect 4"
   ]
  },
  {
   "cell_type": "markdown",
   "metadata": {},
   "source": [
    "219\n",
    "In front of you is a row of N coins, with values v1, v1, ..., vn.\n",
    "\n",
    "You are asked to play the following game. You and an opponent take turns choosing either the first or last coin from the row, removing it from the row, and receiving the value of the coin.\n",
    "\n",
    "Write a program that returns the maximum amount of money you can win with certainty, if you move first, assuming your opponent plays optimally"
   ]
  },
  {
   "cell_type": "markdown",
   "metadata": {},
   "source": [
    "220\n",
    "Let's define a \"sevenish\" number to be one which is either a power of 7, or the sum of unique powers of 7. The first few sevenish numbers are 1, 7, 8, 49, and so on. Create an algorithm to find the nth sevenish number."
   ]
  },
  {
   "cell_type": "markdown",
   "metadata": {},
   "source": [
    "221\n",
    "Given an absolute pathname that may have . or .. as part of it, return the shortest standardized path.\n",
    "\n",
    "For example, given \"/usr/bin/../bin/./scripts/../\", return \"/usr/bin/\"."
   ]
  },
  {
   "cell_type": "markdown",
   "metadata": {},
   "source": [
    "222\n",
    "Typically, an implementation of in-order traversal of a binary tree has O(h) space complexity, where h is the height of the tree. Write a program to compute the in-order traversal of a binary tree using O(1) space."
   ]
  },
  {
   "cell_type": "markdown",
   "metadata": {},
   "source": [
    "223\n",
    "You're given a string consisting solely of (, ), and *. * can represent either a (, ), or an empty string. Determine whether the parentheses are balanced.\n",
    "\n",
    "For example, (()* and (*) are balanced. )*( is not balanced"
   ]
  },
  {
   "cell_type": "markdown",
   "metadata": {},
   "source": [
    "224\n",
    "Given a sorted array, find the smallest positive integer that is not the sum of a subset of the array.\n",
    "\n",
    "For example, for the input [1, 2, 3, 10], you should return 7.\n",
    "\n",
    "Do this in O(N) time."
   ]
  },
  {
   "cell_type": "markdown",
   "metadata": {},
   "source": [
    "225\n",
    "\n",
    " Daily Coding Problem\n",
    "Good morning! Here's your coding interview problem for today.\n",
    "\n",
    "This problem was asked by Bloomberg.\n",
    "\n",
    "There are N prisoners standing in a circle, waiting to be executed. The executions are carried out starting with the kth person, and removing every successive kth person going clockwise until there is no one left.\n",
    "\n",
    "Given N and k, write an algorithm to determine where a prisoner should stand in order to be the last survivor.\n",
    "\n",
    "For example, if N = 5 and k = 2, the order of executions would be [2, 4, 1, 5, 3], so you should return 3.\n",
    "\n",
    "Bonus: Find an O(log N) solution if k = 2"
   ]
  },
  {
   "cell_type": "markdown",
   "metadata": {},
   "source": [
    "226\n",
    "You come across a dictionary of sorted words in a language you've never seen before. Write a program that returns the correct order of letters in this language.\n",
    "\n",
    "For example, given ['xww', 'wxyz', 'wxyw', 'ywx', 'ywz'], you should return ['x', 'z', 'w', 'y']"
   ]
  },
  {
   "cell_type": "markdown",
   "metadata": {},
   "source": [
    "227\n",
    "Boggle is a game played on a 4 x 4 grid of letters. The goal is to find as many words as possible that can be formed by a sequence of adjacent letters in the grid, using each cell at most once. Given a game board and a dictionary of valid words, implement a Boggle solver."
   ]
  },
  {
   "cell_type": "markdown",
   "metadata": {},
   "source": [
    "228\n",
    "Boggle is a game played on a 4 x 4 grid of letters. The goal is to find as many words as possible that can be formed by a sequence of adjacent letters in the grid, using each cell at most once. Given a game board and a dictionary of valid words, implement a Boggle solver."
   ]
  },
  {
   "cell_type": "markdown",
   "metadata": {},
   "source": [
    "229\n",
    "Snakes and Ladders is a game played on a 10 x 10 board, the goal of which is get from square 1 to square 100. On each turn players will roll a six-sided die and move forward a number of spaces equal to the result. If they land on a square that represents a snake or ladder, they will be transported ahead or behind, respectively, to a new square.\n",
    "\n",
    "Find the smallest number of turns it takes to play snakes and ladders.\n",
    "\n",
    "For convenience, here are the squares representing snakes and ladders, and their outcomes:\n",
    "\n",
    "snakes = {16: 6, 48: 26, 49: 11, 56: 53, 62: 19, 64: 60, 87: 24, 93: 73, 95: 75, 98: 78}\n",
    "ladders = {1: 38, 4: 14, 9: 31, 21: 42, 28: 84, 36: 44, 51: 67, 71: 91, 80: 100}"
   ]
  },
  {
   "cell_type": "markdown",
   "metadata": {},
   "source": [
    "230\n",
    "You are given N identical eggs and access to a building with k floors. Your task is to find the lowest floor that will cause an egg to break, if dropped from that floor. Once an egg breaks, it cannot be dropped again. If an egg breaks when dropped from the xth floor, you can assume it will also break when dropped from any floor greater than x.\n",
    "\n",
    "Write an algorithm that finds the minimum number of trial drops it will take, in the worst case, to identify this floor.\n",
    "\n",
    "For example, if N = 1 and k = 5, we will need to try dropping the egg at every floor, beginning with the first, until we reach the fifth floor, so our solution will be 5"
   ]
  },
  {
   "cell_type": "markdown",
   "metadata": {},
   "source": [
    "231\n",
    "Given a string with repeated characters, rearrange the string so that no two adjacent characters are the same. If this is not possible, return None.\n",
    "\n",
    "For example, given \"aaabbc\", you could return \"ababac\". Given \"aaab\", return None."
   ]
  },
  {
   "cell_type": "markdown",
   "metadata": {},
   "source": [
    "232\n",
    "Implement a PrefixMapSum class with the following methods:\n",
    "\n",
    "insert(key: str, value: int): Set a given key's value in the map. If the key already exists, overwrite the value.\n",
    "sum(prefix: str): Return the sum of all values of keys that begin with a given prefix.\n",
    "For example, you should be able to run the following code:\n",
    "\n",
    "mapsum.insert(\"columnar\", 3)\n",
    "assert mapsum.sum(\"col\") == 3\n",
    "\n",
    "mapsum.insert(\"column\", 2)\n",
    "assert mapsum.sum(\"col\") == 5"
   ]
  },
  {
   "cell_type": "markdown",
   "metadata": {},
   "source": [
    "233\n",
    "Implement the function fib(n), which returns the nth number in the Fibonacci sequence, using only O(1) space."
   ]
  },
  {
   "cell_type": "markdown",
   "metadata": {},
   "source": [
    "234\n",
    "Recall that the minimum spanning tree is the subset of edges of a tree that connect all its vertices with the smallest possible total edge weight. Given an undirected graph with weighted edges,\n",
    "compute the maximum weight spanning tree."
   ]
  },
  {
   "cell_type": "markdown",
   "metadata": {},
   "source": [
    "235\n",
    "Given an array of numbers of length N, find both the minimum and maximum using less than 2 * (N - 2) comparisons."
   ]
  },
  {
   "cell_type": "markdown",
   "metadata": {},
   "source": [
    "236\n",
    "You are given a list of N points (x1, y1), (x2, y2), ..., (xN, yN) representing a polygon. You can assume these points are given in order; that is, you can construct the polygon by connecting point 1 to point 2, point 2 to point 3, and so on, finally looping around to connect point N to point 1.\n",
    "\n",
    "Determine if a new point p lies inside this polygon. (If p is on the boundary of the polygon, you should return False)."
   ]
  },
  {
   "cell_type": "markdown",
   "metadata": {},
   "source": [
    "237\n",
    "A tree is symmetric if its data and shape remain unchanged when it is reflected about the root node. The following tree is an example:\n",
    "      4\n",
    "      / | \\\n",
    "    3   5   3\n",
    "  /           \\\n",
    "9              9\n",
    "Given a k-ary tree, determine whether it is symmetric."
   ]
  },
  {
   "cell_type": "markdown",
   "metadata": {},
   "source": [
    "238\n",
    "Blackjack is a two player card game whose rules are as follows:\n",
    "\n",
    "The player and then the dealer are each given two cards.\n",
    "The player can then \"hit\", or ask for arbitrarily many additional cards, so long as their total does not exceed 21.\n",
    "The dealer must then hit if their total is 16 or lower, otherwise pass.\n",
    "Finally, the two compare totals, and the one with the greatest sum not exceeding 21 is the winner.\n",
    "For this problem, cards values are counted as follows: each card between 2 and 10 counts as their face value, face cards count as 10, and aces count as 1.\n",
    "\n",
    "Given perfect knowledge of the sequence of cards in the deck, implement a blackjack solver that maximizes the player's score (that is, wins minus losses)."
   ]
  },
  {
   "cell_type": "markdown",
   "metadata": {},
   "source": [
    "239\n",
    "One way to unlock an Android phone is through a pattern of swipes across a 1-9 keypad.\n",
    "\n",
    "For a pattern to be valid, it must satisfy the following:\n",
    "\n",
    "All of its keys must be distinct.\n",
    "It must not connect two keys by jumping over a third key, unless that key has already been used.\n",
    "For example, 4 - 2 - 1 - 7 is a valid pattern, whereas 2 - 1 - 7 is not.\n",
    "\n",
    "Find the total number of valid unlock patterns of length N, where 1 <= N <= 9"
   ]
  },
  {
   "cell_type": "markdown",
   "metadata": {},
   "source": [
    "240\n",
    "There are N couples sitting in a row of length 2 * N. They are currently ordered randomly, but would like to rearrange themselves so that each couple's partners can sit side by side.\n",
    "\n",
    "What is the minimum number of swaps necessary for this to happen?"
   ]
  },
  {
   "cell_type": "markdown",
   "metadata": {},
   "source": [
    "241\n",
    "In academia, the h-index is a metric used to calculate the impact of a researcher's papers. It is calculated as follows:\n",
    "\n",
    "A researcher has index h if at least h of her N papers have h citations each. If there are multiple h satisfying this formula, the maximum is chosen.\n",
    "\n",
    "For example, suppose N = 5, and the respective citations of each paper are [4, 3, 0, 1, 5]. Then the h-index would be 3, since the researcher has 3 papers with at least 3 citations.\n",
    "\n",
    "Given a list of paper citations of a researcher, calculate their h-index"
   ]
  },
  {
   "cell_type": "markdown",
   "metadata": {},
   "source": [
    "242\n",
    "You are given an array of length 24, where each element represents the number of new subscribers during the corresponding hour. Implement a data structure that efficiently supports the following:\n",
    "\n",
    "update(hour: int, value: int): Increment the element at index hour by value.\n",
    "query(start: int, end: int): Retrieve the number of subscribers that have signed up between start and end (inclusive).\n",
    "You can assume that all values get cleared at the end of the day, and that you will not be asked for start and end values that wrap around midnight."
   ]
  },
  {
   "cell_type": "markdown",
   "metadata": {},
   "source": [
    "243\n",
    "Given an array of numbers N and an integer k, your task is to split N into k partitions such that the maximum sum of any partition is minimized. Return this sum.\n",
    "\n",
    "For example, given N = [5, 1, 2, 7, 3, 4] and k = 3, you should return 8, since the optimal partition is [5, 1, 2], [7], [3, 4]"
   ]
  },
  {
   "cell_type": "markdown",
   "metadata": {},
   "source": [
    "244\n",
    "The Sieve of Eratosthenes is an algorithm used to generate all prime numbers smaller than N. The method is to take increasingly larger prime numbers, and mark their multiples as composite.\n",
    "\n",
    "For example, to find all primes less than 100, we would first mark [4, 6, 8, ...] (multiples of two), then [6, 9, 12, ...] (multiples of three), and so on. Once we have done this for all primes less than N, the unmarked numbers that remain will be prime.\n",
    "\n",
    "Implement this algorithm.\n",
    "\n",
    "Bonus: Create a generator that produces primes indefinitely (that is, without taking N as an input)."
   ]
  },
  {
   "cell_type": "markdown",
   "metadata": {},
   "source": [
    "245\n",
    "You are given an array of integers, where each element represents the maximum number of steps that can be jumped going forward from that element. Write a function to return the minimum number of jumps you must take in order to get from the start to the end of the array.\n",
    "\n",
    "For example, given [6, 2, 4, 0, 5, 1, 1, 4, 2, 9], you should return 2, as the optimal solution involves jumping from 6 to 5, and then from 5 to 9."
   ]
  },
  {
   "cell_type": "markdown",
   "metadata": {},
   "source": [
    "246\n",
    "Given a list of words, determine whether the words can be chained to form a circle. A word X can be placed in front of another word Y in a circle if the last character of X is same as the first character of Y.\n",
    "\n",
    "For example, the words ['chair', 'height', 'racket', touch', 'tunic'] can form the following circle: chair --> racket --> touch --> height --> tunic --> chair"
   ]
  },
  {
   "cell_type": "markdown",
   "metadata": {},
   "source": [
    "247\n",
    "Given a binary tree, determine whether or not it is height-balanced. A height-balanced binary tree can be defined as one in which the heights of the two subtrees of any node never differ by more than one."
   ]
  },
  {
   "cell_type": "markdown",
   "metadata": {},
   "source": [
    "248.\n",
    "Find the maximum of two numbers without using any if-else statements, branching, or direct comparisons."
   ]
  },
  {
   "cell_type": "markdown",
   "metadata": {},
   "source": [
    "249\n",
    "Given an array of integers, find the maximum XOR of any two elements."
   ]
  },
  {
   "cell_type": "markdown",
   "metadata": {},
   "source": [
    "250\n",
    "A cryptarithmetic puzzle is a mathematical game where the digits of some numbers are represented by letters. Each letter represents a unique digit.\n",
    "\n",
    "For example, a puzzle of the form:\n",
    "\n",
    "  SEND\n",
    "+ MORE\n",
    "--------\n",
    " MONEY\n",
    "may have the solution:\n",
    "\n",
    "{'S': 9, 'E': 5, 'N': 6, 'D': 7, 'M': 1, 'O', 0, 'R': 8, 'Y': 2}\n",
    "Given a three-word puzzle like the one above, create an algorithm that finds a solution."
   ]
  },
  {
   "cell_type": "markdown",
   "metadata": {},
   "source": [
    "251\n",
    "Given an array of a million integers between zero and a billion, out of order, how can you efficiently sort it? \n",
    "Assume that you cannot store an array of a billion elements in memory."
   ]
  },
  {
   "cell_type": "markdown",
   "metadata": {},
   "source": [
    "252\n",
    "The ancient Egyptians used to express fractions as a sum of several terms where each numerator is one. For example, 4 / 13 can be represented as 1 / 4 + 1 / 18 + 1 / 468.\n",
    "\n",
    "Create an algorithm to turn an ordinary fraction a / b, where a < b, into an Egyptian fraction."
   ]
  },
  {
   "cell_type": "markdown",
   "metadata": {},
   "source": [
    "253\n",
    "Given a string and a number of lines k, print the string in zigzag form. In zigzag, characters are printed out diagonally from top left to bottom right until reaching the kth line, then back up to top right, and so on.\n",
    "\n",
    "For example, given the sentence \"thisisazigzag\" and k = 4, you should print:\n",
    "\n",
    "t     a     g\n",
    " h   s z   a\n",
    "  i i   i z\n",
    "   s     g"
   ]
  },
  {
   "cell_type": "markdown",
   "metadata": {},
   "source": [
    "254\n",
    "Recall that a full binary tree is one in which each node is either a leaf node, or has two children. Given a binary tree, convert it to a full one by removing nodes with only one child.\n",
    "\n",
    "For example, given the following tree:\n",
    "\n",
    "         0\n",
    "      /     \\\n",
    "    1         2\n",
    "  /            \\\n",
    "3                 4\n",
    "  \\             /   \\\n",
    "    5          6     7\n",
    "You should convert it to:\n",
    "\n",
    "     0\n",
    "  /     \\\n",
    "5         4\n",
    "        /   \\\n",
    "       6     7"
   ]
  },
  {
   "cell_type": "markdown",
   "metadata": {},
   "source": [
    "255\n",
    "\n",
    "The transitive closure of a graph is a measure of which vertices are reachable from other vertices. It can be represented as a matrix M, where M[i][j] == 1 if there is a path between vertices i and j, and otherwise 0.\n",
    "\n",
    "For example, suppose we are given the following graph in adjacency list form:\n",
    "\n",
    "graph = [\n",
    "    [0, 1, 3],\n",
    "    [1, 2],\n",
    "    [2],\n",
    "    [3]\n",
    "]\n",
    "The transitive closure of this graph would be:\n",
    "\n",
    "[1, 1, 1, 1]\n",
    "[0, 1, 1, 0]\n",
    "[0, 0, 1, 0]\n",
    "[0, 0, 0, 1]\n",
    "Given a graph, find its transitive closure."
   ]
  },
  {
   "cell_type": "markdown",
   "metadata": {},
   "source": [
    "256\n",
    "\n",
    "Given a linked list, rearrange the node values such that they appear in alternating low -> high -> low -> high ... form. For example, given 1 -> 2 -> 3 -> 4 -> 5, you should return 1 -> 3 -> 2 -> 5 -> 4."
   ]
  },
  {
   "cell_type": "markdown",
   "metadata": {},
   "source": [
    "257\n",
    "\n",
    "Given an array of integers out of order, determine the bounds of the smallest window that must be sorted in order for the entire array to be sorted. For example, given [3, 7, 5, 6, 9], you should return (1, 3)."
   ]
  },
  {
   "cell_type": "markdown",
   "metadata": {},
   "source": [
    "258\n",
    "In Ancient Greece, it was common to write text with the first line going left to right, the second line going right to left, and continuing to go back and forth. This style was called \"boustrophedon\".\n",
    "\n",
    "Given a binary tree, write an algorithm to print the nodes in boustrophedon order.\n",
    "\n",
    "For example, given the following tree:\n",
    "\n",
    "       1\n",
    "    /     \\\n",
    "  2         3\n",
    " / \\       / \\\n",
    "4   5     6   7\n",
    "You should return [1, 3, 2, 4, 5, 6, 7]."
   ]
  },
  {
   "cell_type": "markdown",
   "metadata": {},
   "source": [
    "259\n",
    "\n",
    "Ghost is a two-person word game where players alternate appending letters to a word. The first person who spells out a word, or creates a prefix for which there is no possible continuation, loses. Here is a sample game:\n",
    "\n",
    "Player 1: g\n",
    "Player 2: h\n",
    "Player 1: o\n",
    "Player 2: s\n",
    "Player 1: t [loses]\n",
    "Given a dictionary of words, determine the letters the first player should start with, such that with optimal play they cannot lose.\n",
    "\n",
    "For example, if the dictionary is [\"cat\", \"calf\", \"dog\", \"bear\"], the only winning start letter would be b."
   ]
  },
  {
   "cell_type": "markdown",
   "metadata": {},
   "source": [
    "260\n",
    "\n",
    "The sequence [0, 1, ..., N] has been jumbled, and the only clue you have for its order is an array representing whether each number is larger or smaller than the last. Given this information, reconstruct an array that is consistent with it. For example, given [None, +, +, -, +], you could return [1, 2, 3, 0, 4]."
   ]
  },
  {
   "cell_type": "markdown",
   "metadata": {},
   "source": [
    "261\n",
    "\n",
    "Huffman coding is a method of encoding characters based on their frequency. Each letter is assigned a variable-length binary string, such as 0101 or 111110, where shorter lengths correspond to more common letters. To accomplish this, a binary tree is built such that the path from the root to any leaf uniquely maps to a character. When traversing the path, descending to a left child corresponds to a 0 in the prefix, while descending right corresponds to 1.\n",
    "\n",
    "Here is an example tree (note that only the leaf nodes have letters):\n",
    "\n",
    "        *\n",
    "      /   \\\n",
    "    *       *\n",
    "   / \\     / \\\n",
    "  *   a   t   *\n",
    " /             \\\n",
    "c               s\n",
    "With this encoding, cats would be represented as 0000110111.\n",
    "\n",
    "Given a dictionary of character frequencies, build a Huffman tree, and use it to determine a mapping between characters and their encoded binary strings."
   ]
  },
  {
   "cell_type": "markdown",
   "metadata": {},
   "source": [
    "262\n",
    "\n",
    "A bridge in a connected (undirected) graph is an edge that, if removed, causes the graph to become disconnected. Find all the bridges in a graph."
   ]
  },
  {
   "cell_type": "markdown",
   "metadata": {},
   "source": [
    "263\n",
    "Create a basic sentence checker that takes in a stream of characters and determines whether they form valid sentences. If a sentence is valid, the program should print it out.\n",
    "\n",
    "We can consider a sentence valid if it conforms to the following rules:\n",
    "\n",
    "The sentence must start with a capital letter, followed by a lowercase letter or a space.\n",
    "All other characters must be lowercase letters, separators (,,;,:) or terminal marks (.,?,!,‽).\n",
    "There must be a single space between each word.\n",
    "The sentence must end with a terminal mark immediately following a word."
   ]
  },
  {
   "cell_type": "markdown",
   "metadata": {},
   "source": [
    "264\n",
    "\n",
    "Given a set of characters C and an integer k, a De Bruijn sequence is a cyclic sequence in which every possible k-length string of characters in C occurs exactly once.\n",
    "\n",
    "For example, suppose C = {0, 1} and k = 3. Then our sequence should contain the substrings {'000', '001', '010', '011', '100', '101', '110', '111'}, and one possible solution would be 00010111.\n",
    "\n",
    "Create an algorithm that finds a De Bruijn sequence."
   ]
  },
  {
   "cell_type": "markdown",
   "metadata": {},
   "source": [
    "265\n",
    "MegaCorp wants to give bonuses to its employees based on how many lines of codes they have written. They would like to give the smallest positive amount to each worker consistent with the constraint that if a developer has written more lines of code than their neighbor, they should receive more money.\n",
    "\n",
    "Given an array representing a line of seats of employees at MegaCorp, determine how much each one should get paid.\n",
    "\n",
    "For example, given [10, 40, 200, 1000, 60, 30], you should return [1, 2, 3, 4, 2, 1]."
   ]
  },
  {
   "cell_type": "markdown",
   "metadata": {},
   "source": [
    "266\n",
    "A step word is formed by taking a given word, adding a letter, and anagramming the result. For example, starting with the word \"APPLE\", you can add an \"A\" and anagram to get \"APPEAL\".\n",
    "\n",
    "Given a dictionary of words and an input word, create a function that returns all valid step words."
   ]
  },
  {
   "cell_type": "markdown",
   "metadata": {},
   "source": [
    "267\n",
    "You are presented with an 8 by 8 matrix representing the positions of pieces on a chess board. The only pieces on the board are the black king and various white pieces. Given this matrix, determine whether the king is in check.\n",
    "\n",
    "For details on how each piece moves, see here.\n",
    "\n",
    "For example, given the following matrix:\n",
    "\n",
    "...K....\n",
    "........\n",
    ".B......\n",
    "......P.\n",
    ".......R\n",
    "..N.....\n",
    "........\n",
    ".....Q..\n",
    "You should return True, since the bishop is attacking the king diagonally."
   ]
  },
  {
   "cell_type": "markdown",
   "metadata": {},
   "source": [
    "268\n",
    "\n",
    "Given a 32-bit positive integer N, determine whether it is a power of four in faster than O(log N) time.\n"
   ]
  },
  {
   "cell_type": "markdown",
   "metadata": {},
   "source": [
    "269\n",
    "You are given an string representing the initial conditions of some dominoes. Each element can take one of three values:\n",
    "\n",
    "L, meaning the domino has just been pushed to the left,\n",
    "R, meaning the domino has just been pushed to the right, or\n",
    "., meaning the domino is standing still.\n",
    "Determine the orientation of each tile when the dominoes stop falling. Note that if a domino receives a force from the left and right side simultaneously, it will remain upright.\n",
    "\n",
    "For example, given the string .L.R....L, you should return LL.RRRLLL.\n",
    "\n",
    "Given the string ..R...L.L, you should return ..RR.LLLL."
   ]
  },
  {
   "cell_type": "markdown",
   "metadata": {},
   "source": [
    "270\n",
    "\n",
    "A network consists of nodes labeled 0 to N. You are given a list of edges (a, b, t), describing the time t it takes for a message to be sent from node a to node b. Whenever a node receives a message, it immediately passes the message on to a neighboring node, if possible.\n",
    "\n",
    "Assuming all nodes are connected, determine how long it will take for every node to receive a message that begins at node 0.\n",
    "\n",
    "For example, given N = 5, and the following edges:\n",
    "\n",
    "edges = [\n",
    "    (0, 1, 5),\n",
    "    (0, 2, 3),\n",
    "    (0, 5, 4),\n",
    "    (1, 3, 8),\n",
    "    (2, 3, 1),\n",
    "    (3, 5, 10),\n",
    "    (3, 4, 5)\n",
    "]\n",
    "You should return 9, because propagating the message from 0 -> 2 -> 3 -> 4 will take that much time."
   ]
  },
  {
   "cell_type": "markdown",
   "metadata": {},
   "source": [
    "271\n",
    "Given a sorted list of integers of length N, determine if an element x is in the list without performing any multiplication, division, or bit-shift operations.\n",
    "\n",
    "Do this in O(log N) time."
   ]
  },
  {
   "cell_type": "markdown",
   "metadata": {},
   "source": [
    "272\n",
    "\n",
    "Write a function, throw_dice(N, faces, total), that determines how many ways it is possible to throw N dice with some number of faces each to get a specific total.\n",
    "\n",
    "For example, throw_dice(3, 6, 7) should equal 15."
   ]
  },
  {
   "cell_type": "markdown",
   "metadata": {},
   "source": [
    "273\n",
    "\n",
    "A fixed point in an array is an element whose value is equal to its index. Given a sorted array of distinct elements, return a fixed point, if one exists. Otherwise, return False.\n",
    "\n",
    "For example, given [-6, 0, 2, 40], you should return 2. Given [1, 5, 7, 8], you should return False."
   ]
  },
  {
   "cell_type": "markdown",
   "metadata": {},
   "source": [
    "274\n",
    "\n",
    "Given a string consisting of parentheses, single digits, and positive and negative signs, convert the string into a mathematical expression to obtain the answer.\n",
    "\n",
    "Don't use eval or a similar built-in parser.\n",
    "\n",
    "For example, given '-1 + (2 + 3)', you should return 4."
   ]
  },
  {
   "cell_type": "markdown",
   "metadata": {},
   "source": [
    "275\n",
    "The \"look and say\" sequence is defined as follows: beginning with the term 1, each subsequent term visually describes the digits appearing in the previous term. The first few terms are as follows:\n",
    "\n",
    "1\n",
    "11\n",
    "21\n",
    "1211\n",
    "111221\n",
    "As an example, the fourth term is 1211, since the third term consists of one 2 and one 1.\n",
    "\n",
    "Given an integer N, print the Nth term of this sequence."
   ]
  },
  {
   "cell_type": "markdown",
   "metadata": {},
   "source": [
    "276\n",
    "\n",
    "Implement an efficient string matching algorithm.\n",
    "\n",
    "That is, given a string of length N and a pattern of length k, write a program that searches for the pattern in the string with less than O(N * k) worst-case time complexity.\n",
    "\n",
    "If the pattern is found, return the start index of its location. If not, return False."
   ]
  },
  {
   "cell_type": "markdown",
   "metadata": {},
   "source": [
    "277\n",
    "UTF-8 is a character encoding that maps each symbol to one, two, three, or four bytes.\n",
    "\n",
    "For example, the Euro sign, €, corresponds to the three bytes 11100010 10000010 10101100. The rules for mapping characters are as follows:\n",
    "\n",
    "For a single-byte character, the first bit must be zero.\n",
    "For an n-byte character, the first byte starts with n ones and a zero. The other n - 1 bytes all start with 10.\n",
    "Visually, this can be represented as follows.\n",
    "\n",
    " Bytes   |           Byte format\n",
    "-----------------------------------------------\n",
    "   1     | 0xxxxxxx\n",
    "   2     | 110xxxxx 10xxxxxx\n",
    "   3     | 1110xxxx 10xxxxxx 10xxxxxx\n",
    "   4     | 11110xxx 10xxxxxx 10xxxxxx 10xxxxxx\n",
    "Write a program that takes in an array of integers representing byte values, and returns whether it is a valid UTF-8 encoding."
   ]
  },
  {
   "cell_type": "markdown",
   "metadata": {},
   "source": [
    "278\n",
    "\n",
    "Given an integer N, construct all possible binary search trees with N nodes."
   ]
  },
  {
   "cell_type": "markdown",
   "metadata": {},
   "source": [
    "279\n",
    "\n",
    "A classroom consists of N students, whose friendships can be represented in an adjacency list. For example, the following descibes a situation where 0 is friends with 1 and 2, 3 is friends with 6, and so on.\n",
    "\n",
    "{0: [1, 2],\n",
    " 1: [0, 5],\n",
    " 2: [0],\n",
    " 3: [6],\n",
    " 4: [],\n",
    " 5: [1],\n",
    " 6: [3]} \n",
    "Each student can be placed in a friend group, which can be defined as the transitive closure of that student's friendship relations. In other words, this is the smallest set such that no student in the group has any friends outside this group. For the example above, the friend groups would be {0, 1, 2, 5}, {3, 6}, {4}.\n",
    "\n",
    "Given a friendship list such as the one above, determine the number of friend groups in the class."
   ]
  },
  {
   "cell_type": "markdown",
   "metadata": {},
   "source": [
    "280\n",
    "\n",
    "Given an undirected graph, determine if it contains a cycle."
   ]
  },
  {
   "cell_type": "markdown",
   "metadata": {},
   "source": [
    "281\n",
    "\n",
    "A wall consists of several rows of bricks of various integer lengths and uniform height. Your goal is to find a vertical line going from the top to the bottom of the wall that cuts through the fewest number of bricks. If the line goes through the edge between two bricks, this does not count as a cut.\n",
    "\n",
    "For example, suppose the input is as follows, where values in each row represent the lengths of bricks in that row:\n",
    "\n",
    "[[3, 5, 1, 1],\n",
    " [2, 3, 3, 2],\n",
    " [5, 5],\n",
    " [4, 4, 2],\n",
    " [1, 3, 3, 3],\n",
    " [1, 1, 6, 1, 1]]\n",
    "The best we can we do here is to draw a line after the eighth brick, which will only require cutting through the bricks in the third and fifth row.\n",
    "\n",
    "Given an input consisting of brick lengths for each row such as the one above, return the fewest number of bricks that must be cut to create a vertical line."
   ]
  },
  {
   "cell_type": "markdown",
   "metadata": {},
   "source": [
    "282\n",
    "\n",
    "Given an array of integers, determine whether it contains a Pythagorean triplet. Recall that a Pythogorean triplet (a, b, c) is defined by the equation a2+ b2= c2."
   ]
  },
  {
   "cell_type": "markdown",
   "metadata": {},
   "source": [
    "283\n",
    "\n",
    "A regular number in mathematics is defined as one which evenly divides some power of 60. Equivalently, we can say that a regular number is one whose only prime divisors are 2, 3, and 5.\n",
    "\n",
    "These numbers have had many applications, from helping ancient Babylonians keep time to tuning instruments according to the diatonic scale.\n",
    "\n",
    "Given an integer N, write a program that returns, in order, the first N regular numbers."
   ]
  },
  {
   "cell_type": "markdown",
   "metadata": {},
   "source": [
    "284\n",
    "Two nodes in a binary tree can be called cousins if they are on the same level of the tree but have different parents. For example, in the following diagram 4 and 6 are cousins.\n",
    "\n",
    "    1\n",
    "   / \\\n",
    "  2   3\n",
    " / \\   \\\n",
    "4   5   6\n",
    "Given a binary tree and a particular node, find all cousins of that node."
   ]
  },
  {
   "cell_type": "markdown",
   "metadata": {},
   "source": [
    "285\n",
    "You are given an array representing the heights of neighboring buildings on a city street, from east to west. The city assessor would like you to write an algorithm that returns how many of these buildings have a view of the setting sun, in order to properly value the street.\n",
    "\n",
    "For example, given the array [3, 7, 8, 3, 6, 1], you should return 3, since the top floors of the buildings with heights 8, 6, and 1 all have an unobstructed view to the west.\n",
    "\n",
    "Can you do this using just one forward pass through the array?"
   ]
  },
  {
   "cell_type": "markdown",
   "metadata": {},
   "source": [
    "286\n",
    "\n",
    "The skyline of a city is composed of several buildings of various widths and heights, possibly overlapping one another when viewed from a distance. We can represent the buildings using an array of (left, right, height) tuples, which tell us where on an imaginary x-axis a building begins and ends, and how tall it is. The skyline itself can be described by a list of (x, height) tuples, giving the locations at which the height visible to a distant observer changes, and each new height.\n",
    "\n",
    "Given an array of buildings as described above, create a function that returns the skyline.\n",
    "\n",
    "For example, suppose the input consists of the buildings [(0, 15, 3), (4, 11, 5), (19, 23, 4)]. In aggregate, these buildings would create a skyline that looks like the one below.\n",
    "\n",
    "     ______  \n",
    "    |      |        ___\n",
    " ___|      |___    |   | \n",
    "|   |   B  |   |   | C |\n",
    "| A |      | A |   |   |\n",
    "|   |      |   |   |   |\n",
    "------------------------\n",
    "As a result, your function should return [(0, 3), (4, 5), (11, 3), (15, 0), (19, 4), (23, 0)]."
   ]
  },
  {
   "cell_type": "markdown",
   "metadata": {},
   "source": [
    "287\n",
    "\n",
    "You are given a list of (website, user) pairs that represent users visiting websites. Come up with a program that identifies the top k pairs of websites with the greatest similarity.\n",
    "\n",
    "For example, suppose k = 1, and the list of tuples is:\n",
    "\n",
    "[('a', 1), ('a', 3), ('a', 5),\n",
    " ('b', 2), ('b', 6),\n",
    " ('c', 1), ('c', 2), ('c', 3), ('c', 4), ('c', 5)\n",
    " ('d', 4), ('d', 5), ('d', 6), ('d', 7),\n",
    " ('e', 1), ('e', 3), ('e': 5), ('e', 6)]\n",
    "Then a reasonable similarity metric would most likely conclude that a and e are the most similar, so your program should return [('a', 'e')]."
   ]
  },
  {
   "cell_type": "markdown",
   "metadata": {},
   "source": [
    "288\n",
    "The number 6174 is known as Kaprekar's contant, after the mathematician who discovered an associated property: for all four-digit numbers with at least two distinct digits, repeatedly applying a simple procedure eventually results in this value. The procedure is as follows:\n",
    "\n",
    "For a given input x, create two new numbers that consist of the digits in x in ascending and descending order.\n",
    "Subtract the smaller number from the larger number.\n",
    "For example, this algorithm terminates in three steps when starting from 1234:\n",
    "\n",
    "4321 - 1234 = 3087\n",
    "8730 - 0378 = 8352\n",
    "8532 - 2358 = 6174\n",
    "Write a function that returns how many steps this will take for a given input N."
   ]
  },
  {
   "cell_type": "markdown",
   "metadata": {},
   "source": [
    "289\n",
    "\n",
    "The game of Nim is played as follows. Starting with three heaps, each containing a variable number of items, two players take turns removing one or more items from a single pile. The player who eventually is forced to take the last stone loses. For example, if the initial heap sizes are 3, 4, and 5, a game could be played as shown below:\n",
    "\n",
    "  A  |  B  |  C\n",
    "-----------------\n",
    "  3  |  4  |  5\n",
    "  3  |  1  |  3\n",
    "  3  |  1  |  3\n",
    "  0  |  1  |  3\n",
    "  0  |  1  |  0\n",
    "  0  |  0  |  0 \n",
    "In other words, to start, the first player takes three items from pile B. The second player responds by removing two stones from pile C. The game continues in this way until player one takes last stone and loses.\n",
    "\n",
    "Given a list of non-zero starting values [a, b, c], and assuming optimal play, determine whether the first player has a forced win."
   ]
  },
  {
   "cell_type": "markdown",
   "metadata": {},
   "source": [
    "290\n",
    "\n",
    "On a mysterious island there are creatures known as Quxes which come in three colors: red, green, and blue. One power of the Qux is that if two of them are standing next to each other, they can transform into a single creature of the third color.\n",
    "\n",
    "Given N Quxes standing in a line, determine the smallest number of them remaining after any possible sequence of such transformations.\n",
    "\n",
    "For example, given the input ['R', 'G', 'B', 'G', 'B'], it is possible to end up with a single Qux through the following steps:\n",
    "\n",
    "        Arrangement       |   Change\n",
    "----------------------------------------\n",
    "['R', 'G', 'B', 'G', 'B'] | (R, G) -> B\n",
    "['B', 'B', 'G', 'B']      | (B, G) -> R\n",
    "['B', 'R', 'B']           | (R, B) -> G\n",
    "['B', 'G']                | (B, G) -> R\n",
    "['R']                     |"
   ]
  },
  {
   "cell_type": "markdown",
   "metadata": {},
   "source": [
    "291\n",
    "An imminent hurricane threatens the coastal town of Codeville. If at most two people can fit in a rescue boat, and the maximum weight limit for a given boat is k, determine how many boats will be needed to save everyone.\n",
    "\n",
    "For example, given a population with weights [100, 200, 150, 80] and a boat limit of 200, the smallest number of boats required will be three."
   ]
  },
  {
   "cell_type": "markdown",
   "metadata": {},
   "source": [
    "292\n",
    "\n",
    "A teacher must divide a class of students into two teams to play dodgeball. Unfortunately, not all the kids get along, and several refuse to be put on the same team as that of their enemies.\n",
    "\n",
    "Given an adjacency list of students and their enemies, write an algorithm that finds a satisfactory pair of teams, or returns False if none exists.\n",
    "\n",
    "For example, given the following enemy graph you should return the teams {0, 1, 4, 5} and {2, 3}.\n",
    "\n",
    "students = {\n",
    "    0: [3],\n",
    "    1: [2],\n",
    "    2: [1, 4],\n",
    "    3: [0, 4, 5],\n",
    "    4: [2, 3],\n",
    "    5: [3]\n",
    "}\n",
    "On the other hand, given the input below, you should return False.\n",
    "\n",
    "students = {\n",
    "    0: [3],\n",
    "    1: [2],\n",
    "    2: [1, 3, 4],\n",
    "    3: [0, 2, 4, 5],\n",
    "    4: [2, 3],\n",
    "    5: [3]\n",
    "}"
   ]
  },
  {
   "cell_type": "markdown",
   "metadata": {},
   "source": [
    "293\n",
    "You have N stones in a row, and would like to create from them a pyramid. This pyramid should be constructed such that the height of each stone increases by one until reaching the tallest stone, after which the heights decrease by one. In addition, the start and end stones of the pyramid should each be one stone high.\n",
    "\n",
    "You can change the height of any stone by paying a cost of 1 unit to lower its height by 1, as many times as necessary. Given this information, determine the lowest cost method to produce this pyramid.\n",
    "\n",
    "For example, given the stones [1, 1, 3, 3, 2, 1], the optimal solution is to pay 2 to create [0, 1, 2, 3, 2, 1].\n",
    "\n"
   ]
  },
  {
   "cell_type": "markdown",
   "metadata": {},
   "source": [
    "294\n",
    "\n",
    "A competitive runner would like to create a route that starts and ends at his house, with the condition that the route goes entirely uphill at first, and then entirely downhill.\n",
    "\n",
    "Given a dictionary of places of the form {location: elevation}, and a dictionary mapping paths between some of these locations to their corresponding distances, find the length of the shortest route satisfying the condition above. Assume the runner's home is location 0.\n",
    "\n",
    "For example, suppose you are given the following input:\n",
    "\n",
    "elevations = {0: 5, 1: 25, 2: 15, 3: 20, 4: 10}\n",
    "paths = {\n",
    "    (0, 1): 10,\n",
    "    (0, 2): 8,\n",
    "    (0, 3): 15,\n",
    "    (1, 3): 12,\n",
    "    (2, 4): 10,\n",
    "    (3, 4): 5,\n",
    "    (3, 0): 17,\n",
    "    (4, 0): 10\n",
    "}\n",
    "In this case, the shortest valid path would be 0 -> 2 -> 4 -> 0, with a distance of 28."
   ]
  },
  {
   "cell_type": "markdown",
   "metadata": {},
   "source": [
    "295\n",
    "Pascal's triangle is a triangular array of integers constructed with the following formula:\n",
    "\n",
    "The first row consists of the number 1.\n",
    "For each subsequent row, each element is the sum of the numbers directly above it, on either side.\n",
    "For example, here are the first few rows:\n",
    "\n",
    "    1\n",
    "   1 1\n",
    "  1 2 1\n",
    " 1 3 3 1\n",
    "1 4 6 4 1\n",
    "Given an input k, return the kth row of Pascal's triangle.\n",
    "\n",
    "Bonus: Can you do this using only O(k) space?"
   ]
  },
  {
   "cell_type": "markdown",
   "metadata": {},
   "source": [
    "296\n",
    "Given a sorted array, convert it into a height-balanced binary search tree."
   ]
  },
  {
   "cell_type": "markdown",
   "metadata": {},
   "source": [
    "297\n",
    "At a popular bar, each customer has a set of favorite drinks, and will happily accept any drink among this set. For example, in the following situation, customer 0 will be satisfied with drinks 0, 1, 3, or 6.\n",
    "\n",
    "preferences = {\n",
    "    0: [0, 1, 3, 6],\n",
    "    1: [1, 4, 7],\n",
    "    2: [2, 4, 7, 5],\n",
    "    3: [3, 2, 5],\n",
    "    4: [5, 8]\n",
    "}\n",
    "A lazy bartender working at this bar is trying to reduce his effort by limiting the drink recipes he must memorize. Given a dictionary input such as the one above, return the fewest number of drinks he must learn in order to satisfy all customers.\n",
    "\n",
    "For the input above, the answer would be 2, as drinks 1 and 5 will satisfy everyone."
   ]
  },
  {
   "cell_type": "markdown",
   "metadata": {},
   "source": [
    "298\n",
    "\n",
    "A girl is walking along an apple orchard with a bag in each hand. She likes to pick apples from each tree as she goes along, but is meticulous about not putting different kinds of apples in the same bag.\n",
    "\n",
    "Given an input describing the types of apples she will pass on her path, in order, determine the length of the longest portion of her path that consists of just two types of apple trees.\n",
    "\n",
    "For example, given the input [2, 1, 2, 3, 3, 1, 3, 5], the longest portion will involve types 1 and 3, with a length of four."
   ]
  },
  {
   "cell_type": "markdown",
   "metadata": {},
   "source": [
    "299\n",
    "\n",
    "A group of houses is connected to the main water plant by means of a set of pipes. A house can either be connected by a set of pipes extending directly to the plant, or indirectly by a pipe to a nearby house which is otherwise connected.\n",
    "\n",
    "For example, here is a possible configuration, where A, B, and C are houses, and arrows represent pipes:\n",
    "\n",
    "A <--> B <--> C <--> plant\n",
    "Each pipe has an associated cost, which the utility company would like to minimize. Given an undirected graph of pipe connections, return the lowest cost configuration of pipes such that each house has access to water.\n",
    "\n",
    "In the following setup, for example, we can remove all but the pipes from plant to A, plant to B, and B to C, for a total cost of 16.\n",
    "\n",
    "pipes = {\n",
    "    'plant': {'A': 1, 'B': 5, 'C': 20},\n",
    "    'A': {'C': 15},\n",
    "    'B': {'C': 10},\n",
    "    'C': {}\n",
    "}"
   ]
  },
  {
   "cell_type": "markdown",
   "metadata": {},
   "source": [
    "300\n",
    "\n",
    "On election day, a voting machine writes data in the form (voter_id, candidate_id) to a text file. Write a program that reads this file as a stream and returns the top 3 candidates at any given time. If you find a voter voting more than once, report this as fraud."
   ]
  }
 ],
 "metadata": {
  "kernelspec": {
   "display_name": "Python 3",
   "language": "python",
   "name": "python3"
  },
  "language_info": {
   "codemirror_mode": {
    "name": "ipython",
    "version": 3
   },
   "file_extension": ".py",
   "mimetype": "text/x-python",
   "name": "python",
   "nbconvert_exporter": "python",
   "pygments_lexer": "ipython3",
   "version": "3.8.3"
  }
 },
 "nbformat": 4,
 "nbformat_minor": 4
}
