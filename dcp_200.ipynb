{
 "cells": [
  {
   "cell_type": "markdown",
   "metadata": {},
   "source": [
    "101\n",
    "Given an even number (greater than 2), return two prime numbers whose sum will be equal to the given number.\n",
    "\n",
    "A solution will always exist. See Goldbach’s conjecture.\n",
    "\n",
    "Example:\n",
    "\n",
    "Input: 4\n",
    "Output: 2 + 2 = 4\n",
    "If there are more than one solution possible, return the lexicographically smaller solution.\n",
    "\n",
    "If [a, b] is one solution with a <= b, and [c, d] is another solution with c <= d, then\n",
    "\n",
    "[a, b] < [c, d]\n",
    "If a < c OR a==c AND b < d."
   ]
  },
  {
   "cell_type": "markdown",
   "metadata": {},
   "source": [
    "102\n",
    "Given a list of integers and a number K, return which contiguous elements of the list sum to K.\n",
    "\n",
    "For example, if the list is [1, 2, 3, 4, 5] and K is 9, then it should return [2, 3, 4], since 2 + 3 + 4 = 9."
   ]
  },
  {
   "cell_type": "markdown",
   "metadata": {},
   "source": [
    "103\n",
    "Given a string and a set of characters, return the shortest substring containing all the characters in the set.\n",
    "\n",
    "For example, given the string \"figehaeci\" and the set of characters {a, e, i}, you should return \"aeci\".\n",
    "\n",
    "If there is no substring containing all the characters in the set, return null."
   ]
  },
  {
   "cell_type": "markdown",
   "metadata": {},
   "source": [
    "104\n",
    "Determine whether a doubly linked list is a palindrome. What if it’s singly linked?\n",
    "\n",
    "For example, 1 -> 4 -> 3 -> 4 -> 1 returns True while 1 -> 4 returns False."
   ]
  },
  {
   "cell_type": "markdown",
   "metadata": {},
   "source": [
    "105\n",
    "Given a function f, and N return a debounced f of N milliseconds.\n",
    "\n",
    "That is, as long as the debounced f continues to be invoked, f itself will not be called for N milliseconds."
   ]
  },
  {
   "cell_type": "markdown",
   "metadata": {},
   "source": [
    "106\n",
    "Given an integer list where each number represents the number of hops you can make, determine whether you can reach to the last index starting at index 0.\n",
    "\n",
    "For example, [2, 0, 1, 0] returns True while [1, 1, 0, 1] returns False."
   ]
  },
  {
   "cell_type": "markdown",
   "metadata": {},
   "source": [
    "107\n",
    "Print the nodes in a binary tree level-wise. For example, the following should print 1, 2, 3, 4, 5.\n",
    "\n",
    "  1\n",
    " / \\\n",
    "2   3\n",
    "   / \\\n",
    "  4   5"
   ]
  },
  {
   "cell_type": "markdown",
   "metadata": {},
   "source": [
    "108\n",
    "Given two strings A and B, return whether or not A can be shifted some number of times to get B.\n",
    "\n",
    "For example, if A is abcde and B is cdeab, return true. If A is abc and B is acb, return false."
   ]
  },
  {
   "cell_type": "markdown",
   "metadata": {},
   "source": [
    "109\n",
    "Given an unsigned 8-bit integer, swap its even and odd bits. The 1st and 2nd bit should be swapped, the 3rd and 4th bit should be swapped, and so on.\n",
    "\n",
    "For example, 10101010 should be 01010101. 11100010 should be 11010001.\n",
    "\n",
    "Bonus: Can you do this in one line?"
   ]
  },
  {
   "cell_type": "markdown",
   "metadata": {},
   "source": [
    "110\n",
    "This problem was asked by Facebook.\n",
    "\n",
    "Given a binary tree, return all paths from the root to leaves.\n",
    "\n",
    "For example, given the tree:\n",
    "\n",
    "   1\n",
    "  / \\\n",
    " 2   3\n",
    "    / \\\n",
    "   4   5\n",
    "Return [[1, 2], [1, 3, 4], [1, 3, 5]]."
   ]
  },
  {
   "cell_type": "markdown",
   "metadata": {},
   "source": [
    "111\n",
    "Given a word W and a string S, find all starting indices in S which are anagrams of W.\n",
    "\n",
    "For example, given that W is \"ab\", and S is \"abxaba\", return 0, 3, and 4."
   ]
  },
  {
   "cell_type": "markdown",
   "metadata": {},
   "source": [
    "112\n",
    "Given a binary tree, find the lowest common ancestor (LCA) of two given nodes in the tree. Assume that each node in the tree also has a pointer to its parent.\n",
    "\n",
    "According to the definition of LCA on Wikipedia: “The lowest common ancestor is defined between two nodes v and w as the lowest node in T that has both v and w as descendants (where we allow a node to be a descendant of itself).”"
   ]
  },
  {
   "cell_type": "markdown",
   "metadata": {},
   "source": [
    "113\n",
    "Given a string of words delimited by spaces, reverse the words in string. For example, given \"hello world here\", return \"here world hello\"\n",
    "\n",
    "Follow-up: given a mutable string representation, can you perform this operation in-place?"
   ]
  },
  {
   "cell_type": "markdown",
   "metadata": {},
   "source": [
    "114\n",
    "Given a string and a set of delimiters, reverse the words in the string while maintaining the relative order of the delimiters. For example, given \"hello/world:here\", return \"here/world:hello\"\n",
    "\n",
    "Follow-up: Does your solution work for the following cases: \"hello/world:here/\", \"hello//world:here\""
   ]
  },
  {
   "cell_type": "markdown",
   "metadata": {},
   "source": [
    "115\n",
    "Given a string and a set of delimiters, reverse the words in the string while maintaining the relative order of the delimiters. For example, given \"hello/world:here\", return \"here/world:hello\"\n",
    "\n",
    "Follow-up: Does your solution work for the following cases: \"hello/world:here/\", \"hello//world:here\""
   ]
  },
  {
   "cell_type": "markdown",
   "metadata": {},
   "source": [
    "116\n",
    "Generate a finite, but an arbitrarily large binary tree quickly in O(1).\n",
    "\n",
    "That is, generate() should return a tree whose size is unbounded but finite."
   ]
  },
  {
   "cell_type": "markdown",
   "metadata": {},
   "source": [
    "117\n",
    "This problem was asked by Facebook.\n",
    "\n",
    "Given a binary tree, return the level of the tree with minimum sum."
   ]
  },
  {
   "cell_type": "markdown",
   "metadata": {},
   "source": [
    "118\n",
    "Given a sorted list of integers, square the elements and give the output in sorted order.\n",
    "\n",
    "For example, given [-9, -2, 0, 2, 3], return [0, 4, 4, 9, 81]."
   ]
  },
  {
   "cell_type": "markdown",
   "metadata": {},
   "source": [
    "119\n",
    "Given a set of closed intervals, find the smallest set of numbers that covers all the intervals. If there are multiple smallest sets, return any of them.\n",
    "\n",
    "For example, given the intervals [0, 3], [2, 6], [3, 4], [6, 9], one set of numbers that covers all these intervals is {3, 6}."
   ]
  },
  {
   "cell_type": "markdown",
   "metadata": {},
   "source": [
    "120\n",
    "Implement the singleton pattern with a twist. First, instead of storing one instance, store two instances. And in every even call of getInstance(), return the first instance and in every odd call of getInstance(), return the second instance."
   ]
  },
  {
   "cell_type": "markdown",
   "metadata": {},
   "source": [
    "121\n",
    "Given a string which we can delete at most k, return whether you can make a palindrome.\n",
    "\n",
    "For example, given 'waterrfetawx' and a k of 2, you could delete f and x to get 'waterretaw'."
   ]
  },
  {
   "cell_type": "markdown",
   "metadata": {},
   "source": [
    "122\n",
    "You are given a 2-d matrix where each cell represents number of coins in that cell. Assuming we start at matrix[0][0], and can only move right or down, find the maximum number of coins you can collect by the bottom right corner.\n",
    "\n",
    "For example, in this matrix\n",
    "\n",
    "0 3 1 1\n",
    "2 0 0 4\n",
    "1 5 3 1\n",
    "The most we can collect is 0 + 2 + 1 + 5 + 3 + 1 = 12 coins."
   ]
  },
  {
   "cell_type": "markdown",
   "metadata": {},
   "source": [
    "123\n",
    "Given a string, return whether it represents a number. Here are the different kinds of numbers:\n",
    "\n",
    "\"10\", a positive integer\n",
    "\"-10\", a negative integer\n",
    "\"10.1\", a positive real number\n",
    "\"-10.1\", a negative real number\n",
    "\"1e5\", a number in scientific notation\n",
    "And here are examples of non-numbers:\n",
    "\n",
    "\"a\"\n",
    "\"x 1\"\n",
    "\"a -2\"\n",
    "\"-\""
   ]
  },
  {
   "cell_type": "markdown",
   "metadata": {},
   "source": [
    "124\n",
    "You have n fair coins and you flip them all at the same time. Any that come up tails you set aside. The ones that come up heads you flip again. How many rounds do you expect to play before only one coin remains?\n",
    "\n",
    "Write a function that, given n, returns the number of rounds you'd expect to play until one coin remains."
   ]
  },
  {
   "cell_type": "markdown",
   "metadata": {},
   "source": [
    "125\n",
    "Given the root of a binary search tree, and a target K, return two nodes in the tree whose sum equals K.\n",
    "\n",
    "For example, given the following tree and K of 20\n",
    "\n",
    "    10\n",
    "   /   \\\n",
    " 5      15\n",
    "       /  \\\n",
    "     11    15\n",
    "Return the nodes 5 and 15."
   ]
  },
  {
   "cell_type": "markdown",
   "metadata": {},
   "source": [
    "126\n",
    "Write a function that rotates a list by k elements. For example, [1, 2, 3, 4, 5, 6] rotated by two becomes [3, 4, 5, 6, 1, 2]. Try solving this without creating a copy of the list. How many swap or move operations do you need?"
   ]
  },
  {
   "cell_type": "markdown",
   "metadata": {},
   "source": [
    "127\n",
    "Let's represent an integer in a linked list format by having each node represent a digit in the number. The nodes make up the number in reversed order.\n",
    "\n",
    "For example, the following linked list:\n",
    "\n",
    "1 -> 2 -> 3 -> 4 -> 5\n",
    "is the number 54321.\n",
    "\n",
    "Given two linked lists in this format, return their sum in the same linked list format.\n",
    "\n",
    "For example, given\n",
    "\n",
    "9 -> 9\n",
    "5 -> 2\n",
    "return 124 (99 + 25) as:\n",
    "\n",
    "4 -> 2 -> 1"
   ]
  },
  {
   "cell_type": "markdown",
   "metadata": {},
   "source": [
    "128\n",
    "The Tower of Hanoi is a puzzle game with three rods and n disks, each a different size.\n",
    "\n",
    "All the disks start off on the first rod in a stack. They are ordered by size, with the largest disk on the bottom and the smallest one at the top.\n",
    "\n",
    "The goal of this puzzle is to move all the disks from the first rod to the last rod while following these rules:\n",
    "\n",
    "You can only move one disk at a time.\n",
    "A move consists of taking the uppermost disk from one of the stacks and placing it on top of another stack.\n",
    "You cannot place a larger disk on top of a smaller disk.\n",
    "Write a function that prints out all the steps necessary to complete the Tower of Hanoi. You should assume that the rods are numbered, with the first rod being 1, the second (auxiliary) rod being 2, and the last (goal) rod being 3.\n",
    "\n",
    "For example, with n = 3, we can do this in 7 moves:\n",
    "\n",
    "Move 1 to 3\n",
    "Move 1 to 2\n",
    "Move 3 to 2\n",
    "Move 1 to 3\n",
    "Move 2 to 1\n",
    "Move 2 to 3\n",
    "Move 1 to 3\n"
   ]
  },
  {
   "cell_type": "markdown",
   "metadata": {},
   "source": [
    "129\n",
    "Given a real number n, find the square root of n. For example, given n = 9, return 3."
   ]
  },
  {
   "cell_type": "markdown",
   "metadata": {},
   "source": [
    "130\n",
    "Given an array of numbers representing the stock prices of a company in chronological order and an integer k, return the maximum profit you can make from k buys and sells. You must buy the stock before you can sell it, and you must sell the stock before you can buy it again.\n",
    "\n",
    "For example, given k = 2 and the array [5, 2, 4, 0, 1], you should return 3."
   ]
  },
  {
   "cell_type": "markdown",
   "metadata": {},
   "source": [
    "131\n",
    "Given the head to a singly linked list, where each node also has a “random” pointer that points to anywhere in the linked list, deep clone the list."
   ]
  },
  {
   "cell_type": "markdown",
   "metadata": {},
   "source": [
    "132\n",
    "Design and implement a HitCounter class that keeps track of requests (or hits). It should support the following operations:\n",
    "\n",
    "record(timestamp): records a hit that happened at timestamp\n",
    "total(): returns the total number of hits recorded\n",
    "range(lower, upper): returns the number of hits that occurred between timestamps lower and upper (inclusive)\n",
    "Follow-up: What if our system has limited memory?"
   ]
  },
  {
   "cell_type": "markdown",
   "metadata": {},
   "source": [
    "133\n",
    "Given a node in a binary search tree, return the next bigger element, also known as the inorder successor.\n",
    "\n",
    "For example, the inorder successor of 22 is 30.\n",
    "\n",
    "   10\n",
    "  /  \\\n",
    " 5    30\n",
    "     /  \\\n",
    "   22    35\n",
    "You can assume each node has a parent pointer."
   ]
  },
  {
   "cell_type": "markdown",
   "metadata": {},
   "source": [
    "134\n",
    "You have a large array with most of the elements as zero.\n",
    "\n",
    "Use a more space-efficient data structure, SparseArray, that implements the same interface:\n",
    "\n",
    "init(arr, size): initialize with the original large array and size.\n",
    "set(i, val): updates index at i with val.\n",
    "get(i): gets the value at index i."
   ]
  },
  {
   "cell_type": "markdown",
   "metadata": {},
   "source": [
    "135\n",
    "Given a binary tree, find a minimum path sum from root to a leaf.\n",
    "\n",
    "For example, the minimum path in this tree is [10, 5, 1, -1], which has sum 15.\n",
    "\n",
    "  10\n",
    " /  \\\n",
    "5    5\n",
    " \\     \\\n",
    "   2    1\n",
    "       /\n",
    "     -1"
   ]
  },
  {
   "cell_type": "markdown",
   "metadata": {},
   "source": [
    "136\n",
    "Given an N by M matrix consisting only of 1's and 0's, find the largest rectangle containing only 1's and return its area.\n",
    "\n",
    "For example, given the following matrix:\n",
    "\n",
    "[[1, 0, 0, 0],\n",
    " [1, 0, 1, 1],\n",
    " [1, 0, 1, 1],\n",
    " [0, 1, 0, 0]]\n",
    "Return 4."
   ]
  },
  {
   "cell_type": "markdown",
   "metadata": {},
   "source": [
    "137\n",
    "Implement a bit array.\n",
    "\n",
    "A bit array is a space efficient array that holds a value of 1 or 0 at each index.\n",
    "\n",
    "init(size): initialize the array with size\n",
    "set(i, val): updates index at i with val where val is either 1 or 0.\n",
    "get(i): gets the value at index i."
   ]
  },
  {
   "cell_type": "markdown",
   "metadata": {},
   "source": [
    "138\n",
    "Find the minimum number of coins required to make n cents.\n",
    "\n",
    "You can use standard American denominations, that is, 1¢, 5¢, 10¢, and 25¢.\n",
    "\n",
    "For example, given n = 16, return 3 since we can make it with a 10¢, a 5¢, and a 1¢."
   ]
  },
  {
   "cell_type": "markdown",
   "metadata": {},
   "source": [
    "139\n",
    "Given an iterator with methods next() and hasNext(), create a wrapper iterator, PeekableInterface, which also implements peek(). peek shows the next element that would be returned on next().\n",
    "\n",
    "Here is the interface:\n",
    "\n",
    "class PeekableInterface(object):\n",
    "    def __init__(self, iterator):\n",
    "        pass\n",
    "\n",
    "    def peek(self):\n",
    "        pass\n",
    "\n",
    "    def next(self):\n",
    "        pass\n",
    "\n",
    "    def hasNext(self):\n",
    "        pass"
   ]
  },
  {
   "cell_type": "markdown",
   "metadata": {},
   "source": [
    "140\n",
    "Given an array of integers in which two elements appear exactly once and all other elements appear exactly twice, find the two elements that appear only once.\n",
    "\n",
    "For example, given the array [2, 4, 6, 8, 10, 2, 6, 10], return 4 and 8. The order does not matter.\n",
    "\n",
    "Follow-up: Can you do this in linear time and constant space?"
   ]
  },
  {
   "cell_type": "markdown",
   "metadata": {},
   "source": [
    "141\n",
    "Implement 3 stacks using a single list:\n",
    "\n",
    "class Stack:\n",
    "    def __init__(self):\n",
    "        self.list = []\n",
    "\n",
    "    def pop(self, stack_number):\n",
    "        pass\n",
    "\n",
    "    def push(self, item, stack_number):\n",
    "        pass"
   ]
  },
  {
   "cell_type": "markdown",
   "metadata": {},
   "source": [
    "142\n",
    "Given a pivot x, and a list lst, partition the list into three parts.\n",
    "\n",
    "The first part contains all elements in lst that are less than x\n",
    "The second part contains all elements in lst that are equal to x\n",
    "The third part contains all elements in lst that are larger than x\n",
    "Ordering within a part can be arbitrary.\n",
    "\n",
    "For example, given x = 10 and lst = [9, 12, 3, 5, 14, 10, 10], one partition may be [9, 3, 5, 10, 10, 12, 14]."
   ]
  },
  {
   "cell_type": "markdown",
   "metadata": {},
   "source": [
    "143\n",
    "Given an array of numbers and an index i, return the index of the nearest larger number of the number at index i, where distance is measured in array indices.\n",
    "\n",
    "For example, given [4, 1, 3, 5, 6] and index 0, you should return 3.\n",
    "\n",
    "If two distances to larger numbers are the equal, then return any one of them. If the array at i doesn't have a nearest larger integer, then return null.\n",
    "\n",
    "Follow-up: If you can preprocess the array, can you do this in constant time?"
   ]
  },
  {
   "cell_type": "markdown",
   "metadata": {},
   "source": [
    "144\n",
    "Given the head of a singly linked list, swap every two nodes and return its head.\n",
    "\n",
    "For example, given 1 -> 2 -> 3 -> 4, return 2 -> 1 -> 4 -> 3"
   ]
  },
  {
   "cell_type": "markdown",
   "metadata": {},
   "source": [
    "145\n",
    "Given the head of a singly linked list, swap every two nodes and return its head.\n",
    "\n",
    "For example, given 1 -> 2 -> 3 -> 4, return 2 -> 1 -> 4 -> 3"
   ]
  },
  {
   "cell_type": "markdown",
   "metadata": {},
   "source": [
    "146\n",
    "This question was asked by BufferBox.\n",
    "\n",
    "Given a binary tree where all nodes are either 0 or 1, prune the tree so that subtrees containing all 0s are removed.\n",
    "\n",
    "For example, given the following tree:\n",
    "\n",
    "   0\n",
    "  / \\\n",
    " 1   0\n",
    "    / \\\n",
    "   1   0\n",
    "  / \\\n",
    " 0   0\n",
    "should be pruned to:\n",
    "\n",
    "   0\n",
    "  / \\\n",
    " 1   0\n",
    "    /\n",
    "   1\n",
    "We do not remove the tree at the root or its left child because it still has a 1 as a descendant."
   ]
  },
  {
   "cell_type": "markdown",
   "metadata": {},
   "source": [
    "147\n",
    "Given a list, sort it using this method: reverse(lst, i, j), which reverses lst from i to j."
   ]
  },
  {
   "cell_type": "markdown",
   "metadata": {},
   "source": [
    "148\n",
    "Gray code is a binary code where each successive value differ in only one bit, as well as when wrapping around. Gray code is common in hardware so that we don't see temporary spurious values during transitions.\n",
    "\n",
    "Given a number of bits n, generate a possible gray code for it.\n",
    "\n",
    "For example, for n = 2, one gray code would be [00, 01, 11, 10].\n"
   ]
  },
  {
   "cell_type": "markdown",
   "metadata": {},
   "source": [
    "149\n",
    "Given a list of numbers L, implement a method sum(i, j) which returns the sum from the sublist L[i:j] (including i, excluding j).\n",
    "\n",
    "For example, given L = [1, 2, 3, 4, 5], sum(1, 3) should return sum([2, 3]), which is 5.\n",
    "\n",
    "You can assume that you can do some pre-processing. sum() should be optimized over the pre-processing step"
   ]
  },
  {
   "cell_type": "markdown",
   "metadata": {},
   "source": [
    "150\n",
    "Given a list of points, a central point, and an integer k, find the nearest k points from the central point.\n",
    "\n",
    "For example, given the list of points [(0, 0), (5, 4), (3, 1)], the central point (1, 2), and k = 2, return [(0, 0), (3, 1)]."
   ]
  },
  {
   "cell_type": "markdown",
   "metadata": {},
   "source": [
    "151\n",
    "Given a 2-D matrix representing an image, a location of a pixel in the screen and a color C, replace the color of the given pixel and all adjacent same colored pixels with C.\n",
    "\n",
    "For example, given the following matrix, and location pixel of (2, 2), and 'G' for green:\n",
    "\n",
    "B B W\n",
    "W W W\n",
    "W W W\n",
    "B B B\n",
    "Becomes\n",
    "\n",
    "B B G\n",
    "G G G\n",
    "G G G\n",
    "B B B"
   ]
  },
  {
   "cell_type": "markdown",
   "metadata": {},
   "source": [
    "152\n",
    "You are given n numbers as well as n probabilities that sum up to 1. Write a function to generate one of the numbers with its corresponding probability.\n",
    "\n",
    "For example, given the numbers [1, 2, 3, 4] and probabilities [0.1, 0.5, 0.2, 0.2], your function should return 1 10% of the time, 2 50% of the time, and 3 and 4 20% of the time.\n",
    "\n",
    "You can generate random numbers between 0 and 1 uniformly."
   ]
  },
  {
   "cell_type": "markdown",
   "metadata": {},
   "source": [
    "153\n",
    "Find an efficient algorithm to find the smallest distance (measured in number of words) between any two given words in a string.\n",
    "\n",
    "For example, given words \"hello\", and \"world\" and a text content of \"dog cat hello cat dog dog hello cat world\", return 1 because there's only one word \"cat\" in between the two words."
   ]
  },
  {
   "cell_type": "markdown",
   "metadata": {},
   "source": [
    "153\n",
    "Implement a stack API using only a heap. A stack implements the following methods:\n",
    "\n",
    "push(item), which adds an element to the stack\n",
    "pop(), which removes and returns the most recently added element (or throws an error if there is nothing on the stack)\n",
    "Recall that a heap has the following operations:\n",
    "\n",
    "push(item), which adds a new key to the heap\n",
    "pop(), which removes and returns the max value of the heap"
   ]
  },
  {
   "cell_type": "markdown",
   "metadata": {},
   "source": [
    "154\n",
    "Given a list of elements, find the majority element, which appears more than half the time (> floor(len(lst) / 2.0)).\n",
    "\n",
    "You can assume that such element exists.\n",
    "\n",
    "For example, given [1, 2, 1, 1, 3, 4, 0], return 1"
   ]
  },
  {
   "cell_type": "markdown",
   "metadata": {},
   "source": [
    "155\n",
    "Given a positive integer n, find the smallest number of squared integers which sum to n.\n",
    "\n",
    "For example, given n = 13, return 2 since 13 = 32 + 22 = 9 + 4.\n",
    "\n",
    "Given n = 27, return 3 since 27 = 32 + 32 + 32 = 9 + 9 + 9."
   ]
  },
  {
   "cell_type": "markdown",
   "metadata": {},
   "source": [
    "156\n",
    "Given a string, determine whether any permutation of it is a palindrome.\n",
    "\n",
    "For example, carrace should return true, since it can be rearranged to form racecar, which is a palindrome. daily should return false, since there's no rearrangement that can form a palindrome"
   ]
  },
  {
   "cell_type": "markdown",
   "metadata": {},
   "source": [
    "157\n",
    "You are given an N by M matrix of 0s and 1s. Starting from the top left corner, how many ways are there to reach the bottom right corner?\n",
    "\n",
    "You can only move right and down. 0 represents an empty space while 1 represents a wall you cannot walk through.\n",
    "\n",
    "For example, given the following matrix:\n",
    "\n",
    "[[0, 0, 1],\n",
    " [0, 0, 1],\n",
    " [1, 0, 0]]\n",
    "Return two, as there are only two ways to get to the bottom right:\n",
    "\n",
    "Right, down, down, right\n",
    "Down, right, down, right\n",
    "The top left corner and bottom right corner will always be 0."
   ]
  },
  {
   "cell_type": "markdown",
   "metadata": {},
   "source": [
    "158\n",
    "Given a string, return the first recurring character in it, or null if there is no recurring character.\n",
    "\n",
    "For example, given the string \"acbbac\", return \"b\". Given the string \"abcdef\", return null."
   ]
  },
  {
   "cell_type": "markdown",
   "metadata": {},
   "source": [
    "159\n",
    "Given a tree where each edge has a weight, compute the length of the longest path in the tree.\n",
    "\n",
    "For example, given the following tree:\n",
    "\n",
    "   a\n",
    "  /|\\\n",
    " b c d\n",
    "    / \\\n",
    "   e   f\n",
    "  / \\\n",
    " g   h\n",
    "and the weights: a-b: 3, a-c: 5, a-d: 8, d-e: 2, d-f: 4, e-g: 1, e-h: 1, the longest path would be c -> a -> d -> f, with a length of 17.\n",
    "\n",
    "The path does not have to pass through the root, and each node can have any amount of children."
   ]
  },
  {
   "cell_type": "markdown",
   "metadata": {},
   "source": [
    "160\n",
    "Given a 32-bit integer, return the number with its bits reversed.\n",
    "\n",
    "For example, given the binary number 1111 0000 1111 0000 1111 0000 1111 0000, return 0000 1111 0000 1111 0000 1111 0000 1111"
   ]
  },
  {
   "cell_type": "markdown",
   "metadata": {},
   "source": [
    "161\n",
    "Given a list of words, return the shortest unique prefix of each word. For example, given the list:\n",
    "\n",
    "dog\n",
    "cat\n",
    "apple\n",
    "apricot\n",
    "fish\n",
    "Return the list:\n",
    "\n",
    "d\n",
    "c\n",
    "app\n",
    "apr\n",
    "f"
   ]
  },
  {
   "cell_type": "markdown",
   "metadata": {},
   "source": [
    "162\n",
    "Given an arithmetic expression in Reverse Polish Notation, write a program to evaluate it.\n",
    "\n",
    "The expression is given as a list of numbers and operands. For example: [5, 3, '+'] should return 5 + 3 = 8.\n",
    "\n",
    "For example, [15, 7, 1, 1, '+', '-', '/', 3, '*', 2, 1, 1, '+', '+', '-'] should return 5, since it is equivalent to ((15 / (7 - (1 + 1))) * 3) - (2 + (1 + 1)) = 5.\n",
    "\n",
    "You can assume the given expression is always valid."
   ]
  },
  {
   "cell_type": "markdown",
   "metadata": {},
   "source": [
    "163\n",
    "You are given an array of length n + 1 whose elements belong to the set {1, 2, ..., n}. By the pigeonhole principle, there must be a duplicate. Find it in linear time and space."
   ]
  },
  {
   "cell_type": "markdown",
   "metadata": {},
   "source": [
    "164\n",
    "Given an array of integers, return a new array where each element in the new array is the number of smaller elements to the right of that element in the original input array.\n",
    "\n",
    "For example, given the array [3, 4, 9, 6, 1], return [1, 1, 2, 1, 0], since:\n",
    "\n",
    "There is 1 smaller element to the right of 3\n",
    "There is 1 smaller element to the right of 4\n",
    "There are 2 smaller elements to the right of 9\n",
    "There is 1 smaller element to the right of 6\n",
    "There are no smaller elements to the right of 1"
   ]
  },
  {
   "cell_type": "markdown",
   "metadata": {},
   "source": [
    "165\n",
    "Implement a 2D iterator class. It will be initialized with an array of arrays, and should implement the following methods:\n",
    "\n",
    "next(): returns the next element in the array of arrays. If there are no more elements, raise an exception.\n",
    "has_next(): returns whether or not the iterator still has elements left.\n",
    "For example, given the input [[1, 2], [3], [], [4, 5, 6]], calling next() repeatedly should output 1, 2, 3, 4, 5, 6.\n",
    "\n",
    "Do not use flatten or otherwise clone the arrays. Some of the arrays can be empty."
   ]
  },
  {
   "cell_type": "markdown",
   "metadata": {},
   "source": [
    "166\n",
    "Given a list of words, find all pairs of unique indices such that the concatenation of the two words is a palindrome.\n",
    "\n",
    "For example, given the list [\"code\", \"edoc\", \"da\", \"d\"], return [(0, 1), (1, 0), (2, 3)]"
   ]
  },
  {
   "cell_type": "markdown",
   "metadata": {},
   "source": [
    "167\n",
    "Given an N by N matrix, rotate it by 90 degrees clockwise.\n",
    "\n",
    "For example, given the following matrix:\n",
    "\n",
    "[[1, 2, 3],\n",
    " [4, 5, 6],\n",
    " [7, 8, 9]]\n",
    "you should return:\n",
    "\n",
    "[[7, 4, 1],\n",
    " [8, 5, 2],\n",
    " [9, 6, 3]]\n",
    "Follow-up: What if you couldn't use any extra space?"
   ]
  },
  {
   "cell_type": "markdown",
   "metadata": {},
   "source": [
    "168\n",
    "Given a linked list, sort it in O(n log n) time and constant space.\n",
    "\n",
    "For example, the linked list 4 -> 1 -> -3 -> 99 should become -3 -> 1 -> 4 -> 99."
   ]
  },
  {
   "cell_type": "markdown",
   "metadata": {},
   "source": [
    "169\n",
    "Given a start word, an end word, and a dictionary of valid words, find the shortest transformation sequence from start to end such that only one letter is changed at each step of the sequence, and each transformed word exists in the dictionary. If there is no possible transformation, return null. Each word in the dictionary have the same length as start and end and is lowercase.\n",
    "\n",
    "For example, given start = \"dog\", end = \"cat\", and dictionary = {\"dot\", \"dop\", \"dat\", \"cat\"}, return [\"dog\", \"dot\", \"dat\", \"cat\"].\n",
    "\n",
    "Given start = \"dog\", end = \"cat\", and dictionary = {\"dot\", \"tod\", \"dat\", \"dar\"}, return null as there is no possible transformation from dog to cat."
   ]
  },
  {
   "cell_type": "markdown",
   "metadata": {},
   "source": [
    "170\n",
    "You are given a list of data entries that represent entries and exits of groups of people into a building. An entry looks like this:\n",
    "\n",
    "{\"timestamp\": 1526579928, count: 3, \"type\": \"enter\"}\n",
    "\n",
    "This means 3 people entered the building. An exit looks like this:\n",
    "\n",
    "{\"timestamp\": 1526580382, count: 2, \"type\": \"exit\"}\n",
    "\n",
    "This means that 2 people exited the building. timestamp is in Unix time.\n",
    "\n",
    "Find the busiest period in the building, that is, the time with the most people in the building. Return it as a pair of (start, end) timestamps. You can assume the building always starts off and ends up empty, i.e. with 0 people inside."
   ]
  },
  {
   "cell_type": "markdown",
   "metadata": {},
   "source": [
    "171\n",
    "Given a string s and a list of words words, where each word is the same length, find all starting indices of substrings in s that is a concatenation of every word in words exactly once.\n",
    "\n",
    "For example, given s = \"dogcatcatcodecatdog\" and words = [\"cat\", \"dog\"], return [0, 13], since \"dogcat\" starts at index 0 and \"catdog\" starts at index 13.\n",
    "\n",
    "Given s = \"barfoobazbitbyte\" and words = [\"dog\", \"cat\"], return [] since there are no substrings composed of \"dog\" and \"cat\" in s.\n",
    "\n",
    "The order of the indices does not matter."
   ]
  },
  {
   "cell_type": "markdown",
   "metadata": {},
   "source": [
    "172\n",
    "Write a function to flatten a nested dictionary. Namespace the keys with a period.\n",
    "\n",
    "For example, given the following dictionary:\n",
    "\n",
    "{\n",
    "    \"key\": 3,\n",
    "    \"foo\": {\n",
    "        \"a\": 5,\n",
    "        \"bar\": {\n",
    "            \"baz\": 8\n",
    "        }\n",
    "    }\n",
    "}\n",
    "it should become:\n",
    "\n",
    "{\n",
    "    \"key\": 3,\n",
    "    \"foo.a\": 5,\n",
    "    \"foo.bar.baz\": 8\n",
    "}\n",
    "You can assume keys do not contain dots in them, i.e. no clobbering will occur."
   ]
  },
  {
   "cell_type": "markdown",
   "metadata": {},
   "source": [
    "173\n",
    "Describe and give an example of each of the following types of polymorphism:\n",
    "\n",
    "Ad-hoc polymorphism\n",
    "Parametric polymorphism\n",
    "Subtype polymorphism"
   ]
  },
  {
   "cell_type": "markdown",
   "metadata": {},
   "source": [
    "174\n",
    "You are given a starting state start, a list of transition probabilities for a Markov chain, and a number of steps num_steps. Run the Markov chain starting from start for num_steps and compute the number of times we visited each state.\n",
    "\n",
    "For example, given the starting state a, number of steps 5000, and the following transition probabilities:\n",
    "\n",
    "[\n",
    "  ('a', 'a', 0.9),\n",
    "  ('a', 'b', 0.075),\n",
    "  ('a', 'c', 0.025),\n",
    "  ('b', 'a', 0.15),\n",
    "  ('b', 'b', 0.8),\n",
    "  ('b', 'c', 0.05),\n",
    "  ('c', 'a', 0.25),\n",
    "  ('c', 'b', 0.25),\n",
    "  ('c', 'c', 0.5)\n",
    "]\n",
    "One instance of running this Markov chain might produce { 'a': 3012, 'b': 1656, 'c': 332 }."
   ]
  },
  {
   "cell_type": "markdown",
   "metadata": {},
   "source": [
    "175\n",
    "Determine whether there exists a one-to-one character mapping from one string s1 to another s2.\n",
    "\n",
    "For example, given s1 = abc and s2 = bcd, return true since we can map a to b, b to c, and c to d.\n",
    "\n",
    "Given s1 = foo and s2 = bar, return false since the o cannot map to two characters."
   ]
  },
  {
   "cell_type": "markdown",
   "metadata": {},
   "source": [
    "176\n",
    "Given a linked list and a positive integer k, rotate the list to the right by k places.\n",
    "\n",
    "For example, given the linked list 7 -> 7 -> 3 -> 5 and k = 2, it should become 3 -> 5 -> 7 -> 7.\n",
    "\n",
    "Given the linked list 1 -> 2 -> 3 -> 4 -> 5 and k = 3, it should become 3 -> 4 -> 5 -> 1 -> 2"
   ]
  },
  {
   "cell_type": "markdown",
   "metadata": {},
   "source": [
    "177\n",
    "Alice wants to join her school's Probability Student Club. Membership dues are computed via one of two simple probabilistic games.\n",
    "\n",
    "The first game: roll a die repeatedly. Stop rolling once you get a five followed by a six. Your number of rolls is the amount you pay, in dollars.\n",
    "\n",
    "The second game: same, except that the stopping condition is a five followed by a five.\n",
    "\n",
    "Which of the two games should Alice elect to play? Does it even matter? Write a program to simulate the two games and calculate their expected value."
   ]
  },
  {
   "cell_type": "markdown",
   "metadata": {},
   "source": [
    "178\n",
    "Given the sequence of keys visited by a postorder traversal of a binary search tree, reconstruct the tree.\n",
    "\n",
    "For example, given the sequence 2, 4, 3, 8, 7, 5, you should construct the following tree:\n",
    "\n",
    "    5\n",
    "   / \\\n",
    "  3   7\n",
    " / \\   \\\n",
    "2   4   8"
   ]
  },
  {
   "cell_type": "markdown",
   "metadata": {},
   "source": [
    "179\n",
    "Given a stack of N elements, interleave the first half of the stack with the second half reversed using only one other queue. This should be done in-place.\n",
    "\n",
    "Recall that you can only push or pop from a stack, and enqueue or dequeue from a queue.\n",
    "\n",
    "For example, if the stack is [1, 2, 3, 4, 5], it should become [1, 5, 2, 4, 3]. If the stack is [1, 2, 3, 4], it should become [1, 4, 2, 3].\n",
    "\n",
    "Hint: Try working backwards from the end state."
   ]
  },
  {
   "cell_type": "markdown",
   "metadata": {},
   "source": [
    "180\n",
    "Given a string, split it into as few strings as possible such that each string is a palindrome.\n",
    "\n",
    "For example, given the input string racecarannakayak, return [\"racecar\", \"anna\", \"kayak\"].\n",
    "\n",
    "Given the input string abc, return [\"a\", \"b\", \"c\"]"
   ]
  },
  {
   "cell_type": "markdown",
   "metadata": {},
   "source": [
    "181\n",
    "A graph is minimally-connected if it is connected and there is no edge that can be removed while still leaving the graph connected. For example, any binary tree is minimally-connected.\n",
    "\n",
    "Given an undirected graph, check if the graph is minimally-connected. You can choose to represent the graph as either an adjacency matrix or adjacency list."
   ]
  },
  {
   "cell_type": "markdown",
   "metadata": {},
   "source": [
    "182\n",
    "Describe what happens when you type a URL into your browser and press Enter."
   ]
  },
  {
   "cell_type": "markdown",
   "metadata": {},
   "source": [
    "183\n",
    "Given n numbers, find the greatest common denominator between them.\n",
    "\n",
    "For example, given the numbers [42, 56, 14], return 14"
   ]
  },
  {
   "cell_type": "markdown",
   "metadata": {},
   "source": [
    "184\n",
    "Given two rectangles on a 2D graph, return the area of their intersection. If the rectangles don't intersect, return 0.\n",
    "\n",
    "For example, given the following rectangles:\n",
    "\n",
    "{\n",
    "    \"top_left\": (1, 4),\n",
    "    \"dimensions\": (3, 3) # width, height\n",
    "}\n",
    "and\n",
    "\n",
    "{\n",
    "    \"top_left\": (0, 5),\n",
    "    \"dimensions\": (4, 3) # width, height\n",
    "}\n",
    "return 6."
   ]
  },
  {
   "cell_type": "markdown",
   "metadata": {},
   "source": [
    "185\n",
    "Given an array of positive integers, divide the array into two subsets such that the difference between the sum of the subsets is as small as possible.\n",
    "\n",
    "For example, given [5, 10, 15, 20, 25], return the sets {10, 25} and {5, 15, 20}, which has a difference of 5, which is the smallest possible difference."
   ]
  },
  {
   "cell_type": "markdown",
   "metadata": {},
   "source": [
    "186\n",
    "You are given given a list of rectangles represented by min and max x- and y-coordinates. Compute whether or not a pair of rectangles overlap each other. If one rectangle completely covers another, it is considered overlapping.\n",
    "\n",
    "For example, given the following rectangles:\n",
    "\n",
    "{\n",
    "    \"top_left\": (1, 4),\n",
    "    \"dimensions\": (3, 3) # width, height\n",
    "},\n",
    "{\n",
    "    \"top_left\": (-1, 3),\n",
    "    \"dimensions\": (2, 1)\n",
    "},\n",
    "{\n",
    "    \"top_left\": (0, 5),\n",
    "    \"dimensions\": (4, 3)\n",
    "}\n",
    "return true as the first and third rectangle overlap each other."
   ]
  },
  {
   "cell_type": "markdown",
   "metadata": {},
   "source": [
    "187\n",
    "What will this code print out?\n",
    "\n",
    "def make_functions():\n",
    "    flist = []\n",
    "\n",
    "    for i in [1, 2, 3]:\n",
    "        def print_i():\n",
    "            print(i)\n",
    "        flist.append(print_i)\n",
    "\n",
    "    return flist\n",
    "\n",
    "functions = make_functions()\n",
    "for f in functions:\n",
    "    f()\n",
    "How can we make it print out what we apparently want?"
   ]
  },
  {
   "cell_type": "markdown",
   "metadata": {},
   "source": [
    "188\n",
    "Given an array of elements, return the length of the longest subarray where all its elements are distinct.\n",
    "\n",
    "For example, given the array [5, 1, 3, 5, 2, 3, 4, 1], return 5 as the longest subarray of distinct elements is [5, 2, 3, 4, 1]"
   ]
  },
  {
   "cell_type": "markdown",
   "metadata": {},
   "source": [
    "189\n",
    "Given a circular array, compute its maximum subarray sum in O(n) time. A subarray can be empty, and in this case the sum is 0.\n",
    "\n",
    "For example, given [8, -1, 3, 4], return 15 as we choose the numbers 3, 4, and 8 where the 8 is obtained from wrapping around.\n",
    "\n",
    "Given [-4, 5, 1, 0], return 6 as we choose the numbers 5 and 1."
   ]
  },
  {
   "cell_type": "markdown",
   "metadata": {},
   "source": [
    "190\n",
    "Given a collection of intervals, find the minimum number of intervals you need to remove to make the rest of the intervals non-overlapping.\n",
    "\n",
    "Intervals can \"touch\", such as [0, 1] and [1, 2], but they won't be considered overlapping.\n",
    "\n",
    "For example, given the intervals (7, 9), (2, 4), (5, 8), return 1 as the last interval can be removed and the first two won't overlap.\n",
    "\n",
    "The intervals are not necessarily sorted in any order"
   ]
  },
  {
   "cell_type": "markdown",
   "metadata": {},
   "source": [
    "191\n",
    "You are given an array of nonnegative integers. Let's say you start at the beginning of the array and are trying to advance to the end. You can advance at most, the number of steps that you're currently on. Determine whether you can get to the end of the array.\n",
    "\n",
    "For example, given the array [1, 3, 1, 2, 0, 1], we can go from indices 0 -> 1 -> 3 -> 5, so return true.\n",
    "\n",
    "Given the array [1, 2, 1, 0, 0], we can't reach the end, so return false."
   ]
  },
  {
   "cell_type": "markdown",
   "metadata": {},
   "source": [
    "192\n",
    "Given a array of numbers representing the stock prices of a company in chronological order, write a function that calculates the maximum profit you could have made from buying and selling that stock. You're also given a number fee that represents a transaction fee for each buy and sell transaction.\n",
    "\n",
    "You must buy before you can sell the stock, but you can make as many transactions as you like.\n",
    "\n",
    "For example, given [1, 3, 2, 8, 4, 10] and fee = 2, you should return 9, since you could buy the stock at 1 dollar, and sell at 8 dollars, and then buy it at 4 dollars and sell it at 10 dollars. Since we did two transactions, there is a 4 dollar fee, so we have 7 + 6 = 13 profit minus 4 dollars of fees."
   ]
  },
  {
   "cell_type": "markdown",
   "metadata": {},
   "source": [
    "193\n",
    "Suppose you are given two lists of n points, one list p1, p2, ..., pn on the line y = 0 and the other list q1, q2, ..., qn on the line y = 1. Imagine a set of n line segments connecting each point pi to qi. Write an algorithm to determine how many pairs of the line segments intersect.\n"
   ]
  },
  {
   "cell_type": "markdown",
   "metadata": {},
   "source": [
    "194\n",
    "Let A be an N by M matrix in which every row and every column is sorted.\n",
    "\n",
    "Given i1, j1, i2, and j2, compute the number of elements of M smaller than M[i1, j1] and larger than M[i2, j2].\n",
    "\n",
    "For example, given the following matrix:\n",
    "\n",
    "[[1, 3, 7, 10, 15, 20],\n",
    " [2, 6, 9, 14, 22, 25],\n",
    " [3, 8, 10, 15, 25, 30],\n",
    " [10, 11, 12, 23, 30, 35],\n",
    " [20, 25, 30, 35, 40, 45]]\n",
    "And i1 = 1, j1 = 1, i2 = 3, j2 = 3, return 15 as there are 15 numbers in the matrix smaller than 6 or greater than 23"
   ]
  },
  {
   "cell_type": "markdown",
   "metadata": {},
   "source": [
    "195\n",
    "Given the root of a binary tree, find the most frequent subtree sum. The subtree sum of a node is the sum of all values under a node, including the node itself.\n",
    "\n",
    "For example, given the following tree:\n",
    "\n",
    "  5\n",
    " / \\\n",
    "2  -5\n",
    "Return 2 as it occurs twice: once as the left leaf, and once as the sum of 2 + 5 - 5."
   ]
  },
  {
   "cell_type": "markdown",
   "metadata": {},
   "source": [
    "196\n",
    "Given an array and a number k \n",
    "that's smaller than the length of the array, rotate the array to the right k elements in-place."
   ]
  },
  {
   "cell_type": "markdown",
   "metadata": {},
   "source": [
    "197\n",
    "Given a set of distinct positive integers, find the largest subset such that every pair of elements in the subset (i, j) satisfies either i % j = 0 or j % i = 0.\n",
    "\n",
    "For example, given the set [3, 5, 10, 20, 21], you should return [5, 10, 20]. Given [1, 3, 6, 24], return [1, 3, 6, 24]"
   ]
  },
  {
   "cell_type": "markdown",
   "metadata": {},
   "source": [
    "198\n",
    "Given a string of parentheses, find the balanced string that can be produced from it using the minimum number of insertions and deletions. If there are multiple solutions, return any of them.\n",
    "\n",
    "For example, given \"(()\", you could return \"(())\". Given \"))()(\", you could return \"()()()()\"."
   ]
  },
  {
   "cell_type": "markdown",
   "metadata": {},
   "source": [
    "199\n",
    "Let X be a set of n intervals on the real line. We say that a set of points P \"stabs\" X if every interval in X contains at least one point in P. Compute the smallest set of points that stabs X.\n",
    "\n",
    "For example, given the intervals [(1, 4), (4, 5), (7, 9), (9, 12)], you should return [4, 9]"
   ]
  }
 ],
 "metadata": {
  "kernelspec": {
   "display_name": "Python 3",
   "language": "python",
   "name": "python3"
  },
  "language_info": {
   "codemirror_mode": {
    "name": "ipython",
    "version": 3
   },
   "file_extension": ".py",
   "mimetype": "text/x-python",
   "name": "python",
   "nbconvert_exporter": "python",
   "pygments_lexer": "ipython3",
   "version": "3.8.3"
  }
 },
 "nbformat": 4,
 "nbformat_minor": 4
}
